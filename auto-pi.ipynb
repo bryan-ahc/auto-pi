{
 "cells": [
  {
   "cell_type": "code",
   "execution_count": 25,
   "metadata": {},
   "outputs": [
    {
     "data": {
      "text/html": [
       "        <script type=\"text/javascript\">\n",
       "        window.PlotlyConfig = {MathJaxConfig: 'local'};\n",
       "        if (window.MathJax) {MathJax.Hub.Config({SVG: {font: \"STIX-Web\"}});}\n",
       "        if (typeof require !== 'undefined') {\n",
       "        require.undef(\"plotly\");\n",
       "        requirejs.config({\n",
       "            paths: {\n",
       "                'plotly': ['https://cdn.plot.ly/plotly-latest.min']\n",
       "            }\n",
       "        });\n",
       "        require(['plotly'], function(Plotly) {\n",
       "            window._Plotly = Plotly;\n",
       "        });\n",
       "        }\n",
       "        </script>\n",
       "        "
      ]
     },
     "metadata": {},
     "output_type": "display_data"
    },
    {
     "data": {
      "text/html": [
       "        <script type=\"text/javascript\">\n",
       "        window.PlotlyConfig = {MathJaxConfig: 'local'};\n",
       "        if (window.MathJax) {MathJax.Hub.Config({SVG: {font: \"STIX-Web\"}});}\n",
       "        if (typeof require !== 'undefined') {\n",
       "        require.undef(\"plotly\");\n",
       "        requirejs.config({\n",
       "            paths: {\n",
       "                'plotly': ['https://cdn.plot.ly/plotly-latest.min']\n",
       "            }\n",
       "        });\n",
       "        require(['plotly'], function(Plotly) {\n",
       "            window._Plotly = Plotly;\n",
       "        });\n",
       "        }\n",
       "        </script>\n",
       "        "
      ]
     },
     "metadata": {},
     "output_type": "display_data"
    }
   ],
   "source": [
    "import pandas as pd\n",
    "import numpy as np\n",
    "from plotly import __version__\n",
    "import cufflinks as cf\n",
    "from plotly.offline import download_plotlyjs,init_notebook_mode, plot, iplot\n",
    "init_notebook_mode(connected=True)\n",
    "cf.go_offline()\n",
    "import plotly.graph_objects as go\n",
    "from plotly.subplots import make_subplots"
   ]
  },
  {
   "cell_type": "code",
   "execution_count": 26,
   "metadata": {},
   "outputs": [],
   "source": [
    "#drop non-shopper IOs\n",
    "def drop_nonshopper(df):\n",
    "    return df[df['Insertion Order'].str.contains(\"hopper\")]"
   ]
  },
  {
   "cell_type": "code",
   "execution_count": 27,
   "metadata": {},
   "outputs": [],
   "source": [
    "#define extract name plate function\n",
    "\n",
    "def extract_name_plate(io):\n",
    "    if \"Ranger\" in io:\n",
    "        return \"Ranger\"\n",
    "    elif \"Everest\" in io:\n",
    "        return \"Everest\"\n",
    "    elif \"Focus\" in io:\n",
    "        return \"Focus\"\n",
    "    elif \"Escort\" in io:\n",
    "        return \"Escort\"\n",
    "    elif \"Ecosport\" in io:\n",
    "        return \"Ecosport\"\n",
    "    elif \"Transit\" in io:\n",
    "        return \"Transit\"\n",
    "    elif \"Mondeo\" in io:\n",
    "        return \"Mondeo\"\n",
    "    else:\n",
    "        return \"Others\""
   ]
  },
  {
   "cell_type": "code",
   "execution_count": 28,
   "metadata": {},
   "outputs": [],
   "source": [
    "pc_score = {}\n",
    "with open(\"pc.txt\") as f:\n",
    "    for line in f:\n",
    "        l=line.split()\n",
    "        val=l[len(l)-1]\n",
    "        key=line.replace(\" \"+val,\"\")\n",
    "        key=key.rstrip()\n",
    "        pc_score[(key)]=val\n",
    "        \n",
    "mobile_score = {}\n",
    "with open(\"mobile.txt\") as f:\n",
    "    for line in f:\n",
    "        l=line.split()\n",
    "        val=l[len(l)-1]\n",
    "        key=line.replace(\" \"+val,\"\")\n",
    "        key=key.rstrip()\n",
    "        mobile_score[(key)] = val"
   ]
  },
  {
   "cell_type": "code",
   "execution_count": 29,
   "metadata": {},
   "outputs": [],
   "source": [
    "#define create tactic column\n",
    "\n",
    "def add_tactic_column(df):\n",
    "    df['Tactic']=df.apply(lambda row: 'RTG LAL Intender' if (('Intender' in str(row['Line Item'])) and ('Custom HIP' in str(row['Line Item'])))\n",
    "                          else ('RTG LAL Ready to Buy' if (('Ready' in str(row['Line Item'])) and ('Custom HIP' in str(row['Line Item'])))\n",
    "                              else ('RTG LAL Researcher' if (('Research' in str(row['Line Item'])) and ('Custom HIP' in str(row['Line Item'])))\n",
    "                                else ('RTG LAL Dealership' if (('Dearlership' in str(row['Line Item'])) and ('Custom HIP' in str(row['Line Item'])))\n",
    "                                    else ('RTG '+ 'Ready to Buy' if (('RTG' in str(row['Line Item'])) and ('Ready' in str(row['Line Item'])))\n",
    "                                        else ('RTG '+ 'Researcher' if (('RTG' in str(row['Line Item'])) and ('Research' in str(row['Line Item'])))\n",
    "                                            else ('RTG '+ 'Dealership' if (('RTG' in str(row['Line Item'])) and ('Dealership' in str(row['Line Item'])))\n",
    "                                                else ('RTG '+ 'Intender' if (('RTG' in str(row['Line Item'])) and ('Intender' in str(row['Line Item'])))\n",
    "                                                    else ('RTG '+ 'Others' if (('RTG' in str(row['Line Item'])))\n",
    "                                                        else ('Competitor '+ 'Keywords' if (('Keywords' in str(row['Line Item'])) or ('Keyword' in str(row['Line Item'])))\n",
    "                                                            else ('Competitor '+ 'Categories' if (('Categories' in str(row['Line Item'])) or ('Category' in str(row['Line Item'])))\n",
    "                                                                else ('Competitor '+ 'LAL' if ('LAL' in str(row['Line Item']))\n",
    "                                                                        else ('Competitor '+ 'Custom Affinity' if (('Custom_Affinity' or 'Custom Affinity') in str(row['Line Item']))\n",
    "                                                                            else ('Competitor '+ 'In market' if (('In market' in str(row['Line Item'])) or ('In Market' in str(row['Line Item'])) or ('InMarket' in str(row['Line Item']))or ('In-Market' in str(row['Line Item']))or ('In-market' in str(row['Line Item'])))\n",
    "                                                                                else ('Competitor '+ 'PG Deals' if ('PG Deals' in str(row['Line Item']))\n",
    "                                                                                    else ('Competitor '+ 'Custom Intent' if (('Custom Intent' in str(row['Line Item'])) or ('Custom intent' in str(row['Line Item'])))\n",
    "                                                                                        else ('Competitor '+ 'Website' if (('Website' in str(row['Line Item'])) or ('website' in str(row['Line Item'])))\n",
    "                                                                                            else ('Competitor '+ 'Affinity' if ('Affinity' in str(row['Line Item']))\n",
    "                                                                                                else 'Competitor (Others)'\n",
    "                                                                                                )\n",
    "                                                                                            )\n",
    "                                                                                        )\n",
    "                                                                                    )\n",
    "                                                                                )\n",
    "                                                                            )\n",
    "                                                                        )\n",
    "                                                                    )\n",
    "                                                                )\n",
    "                                                            )\n",
    "                                                        )\n",
    "                                                    )\n",
    "                                                )\n",
    "                                            )\n",
    "                                       )\n",
    "                                   )\n",
    "                               )\n",
    "                            ,axis=1)\n",
    "    return df\n"
   ]
  },
  {
   "cell_type": "code",
   "execution_count": 30,
   "metadata": {},
   "outputs": [],
   "source": [
    "#define create strategy column\n",
    "\n",
    "def add_strategy_column(df):\n",
    "    df['Strategy']=df.apply(lambda row: 'AAM LAL' if (('Custom HIP') or ('Custom Hip')) in str(row['Line Item'])\n",
    "                          else ('Prospecting' if 'Competitor' in row['Line Item'] else 'AAM'\n",
    "                              ),axis=1)\n",
    "    return df"
   ]
  },
  {
   "cell_type": "code",
   "execution_count": 31,
   "metadata": {},
   "outputs": [],
   "source": [
    "#define create PI weight column\n",
    "\n",
    "def add_weight_column(df):\n",
    "    df['weight']=df.apply(lambda row: 0 if row['Floodlight Activity Name']=='Unknown'\n",
    "                          else (float(pc_score[str(row['Floodlight Activity Name'])]) if row['Device Type']=='Desktop' else float(mobile_score[str(row['Floodlight Activity Name'])])\n",
    "                              ),axis=1)\n",
    "    return df"
   ]
  },
  {
   "cell_type": "code",
   "execution_count": 32,
   "metadata": {},
   "outputs": [],
   "source": [
    "#define create name plate column\n",
    "\n",
    "def add_name_plate_column(df):\n",
    "    df['Name Plate']=df.apply(lambda row: extract_name_plate(str(row['Insertion Order'])),axis=1)\n",
    "    return df\n",
    "    "
   ]
  },
  {
   "cell_type": "code",
   "execution_count": 33,
   "metadata": {},
   "outputs": [],
   "source": [
    "#define create browser family column\n",
    "\n",
    "def add_browser_family_column(df):\n",
    "    df['browser_family']=df.apply(lambda row: 'Safari' if 'Safari' in str(row['Browser'])\n",
    "                          else ('Internet Explorer' if 'Internet Explorer' in row['Browser'] else row['Browser']\n",
    "                              ),axis=1)\n",
    "    return df"
   ]
  },
  {
   "cell_type": "code",
   "execution_count": 34,
   "metadata": {},
   "outputs": [],
   "source": [
    "#define create OS family column\n",
    "\n",
    "def add_os_family_column(df):\n",
    "    df['OS Family']=df.apply(lambda row: 'Android' if 'Android' in str(row['Operating System'])\n",
    "                          else ('iOS' if 'iOS' in row['Operating System'] else ('Windows' if 'Windows' in str(row['Operating System']) else row['Operating System'])\n",
    "                              ),axis=1)\n",
    "    return df"
   ]
  },
  {
   "cell_type": "code",
   "execution_count": 35,
   "metadata": {},
   "outputs": [],
   "source": [
    "#define create total PI column\n",
    "\n",
    "def add_pi_column(df):\n",
    "    df['PI']=df.apply(lambda row: row['weight']*row['Total Conversions'],axis=1)\n",
    "    return df"
   ]
  },
  {
   "cell_type": "code",
   "execution_count": 36,
   "metadata": {},
   "outputs": [],
   "source": [
    "#define create table for device\n",
    "def pivot_device(df):\n",
    "    pivot_device=df.pivot_table(index='Device Type',values=['PI','Media Cost'],aggfunc=np.sum)\n",
    "    pivot_device['CPPI']=pivot_device.apply(lambda row: row['Media Cost'] / row['PI'] if row['PI']!=0 else 0,axis=1)\n",
    "    pivot_device.sort_values(['Media Cost'],ascending=False)\n",
    "    return pivot_device"
   ]
  },
  {
   "cell_type": "code",
   "execution_count": 37,
   "metadata": {},
   "outputs": [],
   "source": [
    "#define create table for strategy\n",
    "def pivot_strategy(df):\n",
    "    pivot_strategy=df.pivot_table(index='Strategy',values=['PI','Media Cost'],aggfunc=np.sum)\n",
    "    pivot_strategy['CPPI']=pivot_strategy.apply(lambda row: row['Media Cost'] / row['PI'] if row['PI']!=0 else 0,axis=1)\n",
    "    pivot_strategy=pivot_strategy.sort_values(['Media Cost'],ascending=False)\n",
    "    return pivot_strategy"
   ]
  },
  {
   "cell_type": "code",
   "execution_count": 38,
   "metadata": {},
   "outputs": [],
   "source": [
    "#define create table for tactic\n",
    "def pivot_tactic(df):\n",
    "    pivot_tactic=df.pivot_table(index='Tactic',values=['PI','Media Cost'],aggfunc=np.sum)\n",
    "    pivot_tactic['CPPI']=pivot_tactic.apply(lambda row: row['Media Cost'] / row['PI'] if row['PI']!=0 else 0,axis=1)\n",
    "    pivot_tactic=pivot_tactic.sort_values(['Media Cost'],ascending=False)\n",
    "    return pivot_tactic"
   ]
  },
  {
   "cell_type": "code",
   "execution_count": 39,
   "metadata": {},
   "outputs": [],
   "source": [
    "#define create table for browser family\n",
    "def pivot_browser_family(df):\n",
    "    pivot=df.pivot_table(index='browser_family',values=['PI','Media Cost'],aggfunc=np.sum)\n",
    "    pivot['CPPI']=pivot.apply(lambda row: row['Media Cost'] / row['PI'] if row['PI']!=0 else 0,axis=1)\n",
    "    pivot=pivot.sort_values(['Media Cost'],ascending=False)\n",
    "    return pivot"
   ]
  },
  {
   "cell_type": "code",
   "execution_count": 40,
   "metadata": {},
   "outputs": [],
   "source": [
    "#define create table for OS family\n",
    "def pivot_os_family(df):\n",
    "    pivot=df.pivot_table(index='OS Family',values=['PI','Media Cost'],aggfunc=np.sum)\n",
    "    pivot['CPPI']=pivot.apply(lambda row: row['Media Cost'] / row['PI'] if row['PI']!=0 else 0,axis=1)\n",
    "    pivot=pivot.sort_values(['Media Cost'],ascending=False)\n",
    "    return pivot"
   ]
  },
  {
   "cell_type": "code",
   "execution_count": 41,
   "metadata": {},
   "outputs": [],
   "source": [
    "#define create table for URL\n",
    "def pivot_url(df):\n",
    "    pivot=df.pivot_table(index='App/URL',values=['PI','Media Cost'],aggfunc=np.sum)\n",
    "    pivot['CPPI']=pivot.apply(lambda row: row['Media Cost'] / row['PI'] if row['PI']!=0 else 0,axis=1)\n",
    "    pivot=pivot.sort_values(['Media Cost'],ascending=False)\n",
    "    return pivot"
   ]
  },
  {
   "cell_type": "code",
   "execution_count": 42,
   "metadata": {},
   "outputs": [],
   "source": [
    "#define create table for tactic-device\n",
    "def pivot_tactic_device(df):\n",
    "    pivot_tactic=df.pivot_table(index=['Tactic','Device Type'],values=['PI','Media Cost'],aggfunc=np.sum)\n",
    "    pivot_tactic['CPPI']=pivot_tactic.apply(lambda row: row['Media Cost'] / row['PI'] if row['PI']!=0 else 0,axis=1)\n",
    "    pivot_tactic=pivot_tactic.sort_values(['Tactic'],ascending=True)\n",
    "    return pivot_tactic"
   ]
  },
  {
   "cell_type": "code",
   "execution_count": 43,
   "metadata": {},
   "outputs": [],
   "source": [
    "#define create table for strategy-device\n",
    "def pivot_strategy_device(df):\n",
    "    pivot_tactic=df.pivot_table(index=['Strategy','Device Type'],values=['PI','Media Cost'],aggfunc=np.sum)\n",
    "    pivot_tactic['CPPI']=pivot_tactic.apply(lambda row: row['Media Cost'] / row['PI'] if row['PI']!=0 else 0,axis=1)\n",
    "    pivot_tactic=pivot_tactic.sort_values(['Strategy'],ascending=True)\n",
    "    return pivot_tactic"
   ]
  },
  {
   "cell_type": "code",
   "execution_count": 44,
   "metadata": {},
   "outputs": [],
   "source": [
    "#define create table for pixel\n",
    "def pivot_pixel(df):\n",
    "    df=df[df['Floodlight Activity Name']!='Unknown']\n",
    "    pivot_tactic=df.pivot_table(index=['Floodlight Activity Name','Device Type','weight'],values=['Total Conversions','PI'],aggfunc=np.sum)\n",
    "    pivot_tactic=pivot_tactic.sort_values(['Floodlight Activity Name'],ascending=True)\n",
    "    pivot_tactic.rename(columns={\"PI\": \"Total PI\"})\n",
    "    return pivot_tactic"
   ]
  },
  {
   "cell_type": "code",
   "execution_count": 45,
   "metadata": {},
   "outputs": [],
   "source": [
    "#define write to excel function\n",
    "\n",
    "def write_to_excel(df, df2,df21,df3,df31,df4,df5,df6,sheet,writer):\n",
    "    df.to_excel(writer,sheet_name=sheet,startrow=0 , startcol=0)   \n",
    "    df2.to_excel(writer,sheet_name=sheet,startrow=len(df.index)+2, startcol=0) \n",
    "    df21.to_excel(writer,sheet_name=sheet,startrow=len(df.index)+2, startcol=5) \n",
    "    df3.to_excel(writer,sheet_name=sheet,startrow=len(df21.index)+2+len(df.index)+2, startcol=0)\n",
    "    df31.to_excel(writer,sheet_name=sheet,startrow=len(df21.index)+2+len(df.index)+2, startcol=5)\n",
    "    df4.to_excel(writer,sheet_name=sheet,startrow=len(df31.index)+2+len(df21.index)+2+len(df.index)+2, startcol=0)\n",
    "    df5.to_excel(writer,sheet_name=sheet,startrow=len(df4.index)+2+len(df31.index)+2+len(df21.index)+2+len(df.index)+2, startcol=0)\n",
    "    df6.to_excel(writer,sheet_name=sheet,startrow=0, startcol=11)"
   ]
  },
  {
   "cell_type": "code",
   "execution_count": 46,
   "metadata": {},
   "outputs": [],
   "source": [
    "#define main function\n",
    "\n",
    "def generate_pi_report():\n",
    "    df=pd.read_csv(\"input.csv\")\n",
    "    df=df.rename(columns={\"Total Media Cost (Advertiser Currency)\": \"Media Cost\"})\n",
    "    df=df.dropna()\n",
    "    df=drop_nonshopper(df)\n",
    "    df=add_name_plate_column(df)\n",
    "    df=add_strategy_column(df)\n",
    "    df=add_weight_column(df)\n",
    "    df=add_pi_column(df)\n",
    "    df=add_tactic_column(df)\n",
    "    df=add_browser_family_column(df)\n",
    "    df=add_os_family_column(df)\n",
    "    nPlates=df['Name Plate'].unique()\n",
    "    writer = pd.ExcelWriter('PI report.xlsx', engine='xlsxwriter')\n",
    "    workbook=writer.book\n",
    "    money_fmt = workbook.add_format({'num_format': '$#,##0'})\n",
    "    CPPI_fmt = workbook.add_format({'num_format': '#,##0.00'})\n",
    "    url_fmt = workbook.add_format({'align': 'right'})\n",
    "    \n",
    "    for x in range(nPlates.size):\n",
    "        worksheet=workbook.add_worksheet(str(nPlates[x]))    \n",
    "        worksheet.set_zoom(75)\n",
    "        worksheet.set_column('A:A', 15)\n",
    "        worksheet.set_column('F:G', 15)\n",
    "        worksheet.set_column('L2:L10000', 40,url_fmt)\n",
    "        worksheet.set_column('B:B', 10, money_fmt)\n",
    "        worksheet.set_column('H:H', 10, money_fmt)\n",
    "        worksheet.set_column('M:M', 10, money_fmt)\n",
    "        worksheet.set_column('D:D', 10, CPPI_fmt)\n",
    "        worksheet.set_column('J:J', 10, CPPI_fmt)\n",
    "        worksheet.set_column('O:O', 10, CPPI_fmt)\n",
    "        writer.sheets[str(nPlates[x])]=worksheet\n",
    "        df1=df[df['Name Plate']==nPlates[x]]\n",
    "        p1=pivot_device(df1)\n",
    "        p2=pivot_strategy(df1)\n",
    "        p21=pivot_strategy_device(df1)\n",
    "        p3=pivot_tactic(df1)\n",
    "        p31=pivot_tactic_device(df1)\n",
    "        p4=pivot_os_family(df1)\n",
    "        p5=pivot_browser_family(df1)\n",
    "        p6=pivot_url(df1)\n",
    "        write_to_excel(p1,p2,p21,p3,p31,p4,p5,p6,str(nPlates[x]),writer) \n",
    "        worksheet=workbook.add_worksheet(str(nPlates[x])+\" PI Contribution\")\n",
    "        worksheet.set_column('A:A', 40)\n",
    "        worksheet.set_column('B:B', 20)\n",
    "        worksheet.set_column('E:E', 20)\n",
    "        worksheet.set_zoom(75)\n",
    "        writer.sheets[str(nPlates[x])+\" PI Contribution\"]=worksheet\n",
    "        pc1=pivot_pixel(df1)\n",
    "        if pc1.size>0:\n",
    "            pc1.to_excel(writer,sheet_name=str(nPlates[x]+\" PI Contribution\"),startrow=0 , startcol=0) \n",
    "    writer.save()\n",
    "    return df\n",
    "    "
   ]
  },
  {
   "cell_type": "code",
   "execution_count": 47,
   "metadata": {
    "scrolled": true
   },
   "outputs": [],
   "source": [
    "df=generate_pi_report()"
   ]
  },
  {
   "cell_type": "code",
   "execution_count": 48,
   "metadata": {},
   "outputs": [
    {
     "data": {
      "text/html": [
       "<div>\n",
       "<style scoped>\n",
       "    .dataframe tbody tr th:only-of-type {\n",
       "        vertical-align: middle;\n",
       "    }\n",
       "\n",
       "    .dataframe tbody tr th {\n",
       "        vertical-align: top;\n",
       "    }\n",
       "\n",
       "    .dataframe thead th {\n",
       "        text-align: right;\n",
       "    }\n",
       "</style>\n",
       "<table border=\"1\" class=\"dataframe\">\n",
       "  <thead>\n",
       "    <tr style=\"text-align: right;\">\n",
       "      <th></th>\n",
       "      <th>Media Cost</th>\n",
       "      <th>PI</th>\n",
       "      <th>CPPI</th>\n",
       "    </tr>\n",
       "    <tr>\n",
       "      <th>Tactic</th>\n",
       "      <th></th>\n",
       "      <th></th>\n",
       "      <th></th>\n",
       "    </tr>\n",
       "  </thead>\n",
       "  <tbody>\n",
       "    <tr>\n",
       "      <th>Competitor (Others)</th>\n",
       "      <td>85.793643</td>\n",
       "      <td>848.0</td>\n",
       "      <td>0.101172</td>\n",
       "    </tr>\n",
       "    <tr>\n",
       "      <th>Competitor Affinity</th>\n",
       "      <td>0.004040</td>\n",
       "      <td>0.0</td>\n",
       "      <td>0.000000</td>\n",
       "    </tr>\n",
       "    <tr>\n",
       "      <th>Competitor Categories</th>\n",
       "      <td>0.001350</td>\n",
       "      <td>0.0</td>\n",
       "      <td>0.000000</td>\n",
       "    </tr>\n",
       "    <tr>\n",
       "      <th>Competitor In market</th>\n",
       "      <td>0.001300</td>\n",
       "      <td>0.0</td>\n",
       "      <td>0.000000</td>\n",
       "    </tr>\n",
       "    <tr>\n",
       "      <th>Competitor Keywords</th>\n",
       "      <td>0.000846</td>\n",
       "      <td>0.0</td>\n",
       "      <td>0.000000</td>\n",
       "    </tr>\n",
       "    <tr>\n",
       "      <th>Competitor PG Deals</th>\n",
       "      <td>0.000696</td>\n",
       "      <td>0.0</td>\n",
       "      <td>0.000000</td>\n",
       "    </tr>\n",
       "    <tr>\n",
       "      <th>Competitor LAL</th>\n",
       "      <td>0.000654</td>\n",
       "      <td>0.0</td>\n",
       "      <td>0.000000</td>\n",
       "    </tr>\n",
       "    <tr>\n",
       "      <th>Competitor Custom Intent</th>\n",
       "      <td>0.000650</td>\n",
       "      <td>0.0</td>\n",
       "      <td>0.000000</td>\n",
       "    </tr>\n",
       "    <tr>\n",
       "      <th>RTG Dealership</th>\n",
       "      <td>0.000000</td>\n",
       "      <td>53.0</td>\n",
       "      <td>0.000000</td>\n",
       "    </tr>\n",
       "    <tr>\n",
       "      <th>RTG Intender</th>\n",
       "      <td>0.000000</td>\n",
       "      <td>1.0</td>\n",
       "      <td>0.000000</td>\n",
       "    </tr>\n",
       "    <tr>\n",
       "      <th>RTG Researcher</th>\n",
       "      <td>0.000000</td>\n",
       "      <td>7.0</td>\n",
       "      <td>0.000000</td>\n",
       "    </tr>\n",
       "  </tbody>\n",
       "</table>\n",
       "</div>"
      ],
      "text/plain": [
       "                          Media Cost     PI      CPPI\n",
       "Tactic                                               \n",
       "Competitor (Others)        85.793643  848.0  0.101172\n",
       "Competitor Affinity         0.004040    0.0  0.000000\n",
       "Competitor Categories       0.001350    0.0  0.000000\n",
       "Competitor In market        0.001300    0.0  0.000000\n",
       "Competitor Keywords         0.000846    0.0  0.000000\n",
       "Competitor PG Deals         0.000696    0.0  0.000000\n",
       "Competitor LAL              0.000654    0.0  0.000000\n",
       "Competitor Custom Intent    0.000650    0.0  0.000000\n",
       "RTG Dealership              0.000000   53.0  0.000000\n",
       "RTG Intender                0.000000    1.0  0.000000\n",
       "RTG Researcher              0.000000    7.0  0.000000"
      ]
     },
     "execution_count": 48,
     "metadata": {},
     "output_type": "execute_result"
    }
   ],
   "source": [
    "pivot_tactic(df)"
   ]
  },
  {
   "cell_type": "code",
   "execution_count": 49,
   "metadata": {},
   "outputs": [
    {
     "data": {
      "application/vnd.plotly.v1+json": {
       "config": {
        "plotlyServerURL": "https://plot.ly"
       },
       "data": [
        {
         "line": {
          "color": "rgba(0, 0, 100, 0.5)",
          "width": 1
         },
         "name": "CPPI",
         "type": "scatter",
         "x": [
          "Prospecting",
          "AAM"
         ],
         "xaxis": "x",
         "y": [
          0.10117174882075507,
          0.000156327868852459
         ],
         "yaxis": "y2"
        },
        {
         "marker": {
          "color": "lightblue"
         },
         "name": "Media Cost",
         "type": "bar",
         "x": [
          "Prospecting",
          "AAM"
         ],
         "y": [
          85.7936430000003,
          0.009536
         ]
        }
       ],
       "layout": {
        "template": {
         "data": {
          "bar": [
           {
            "error_x": {
             "color": "#2a3f5f"
            },
            "error_y": {
             "color": "#2a3f5f"
            },
            "marker": {
             "line": {
              "color": "#E5ECF6",
              "width": 0.5
             }
            },
            "type": "bar"
           }
          ],
          "barpolar": [
           {
            "marker": {
             "line": {
              "color": "#E5ECF6",
              "width": 0.5
             }
            },
            "type": "barpolar"
           }
          ],
          "carpet": [
           {
            "aaxis": {
             "endlinecolor": "#2a3f5f",
             "gridcolor": "white",
             "linecolor": "white",
             "minorgridcolor": "white",
             "startlinecolor": "#2a3f5f"
            },
            "baxis": {
             "endlinecolor": "#2a3f5f",
             "gridcolor": "white",
             "linecolor": "white",
             "minorgridcolor": "white",
             "startlinecolor": "#2a3f5f"
            },
            "type": "carpet"
           }
          ],
          "choropleth": [
           {
            "colorbar": {
             "outlinewidth": 0,
             "ticks": ""
            },
            "type": "choropleth"
           }
          ],
          "contour": [
           {
            "colorbar": {
             "outlinewidth": 0,
             "ticks": ""
            },
            "colorscale": [
             [
              0,
              "#0d0887"
             ],
             [
              0.1111111111111111,
              "#46039f"
             ],
             [
              0.2222222222222222,
              "#7201a8"
             ],
             [
              0.3333333333333333,
              "#9c179e"
             ],
             [
              0.4444444444444444,
              "#bd3786"
             ],
             [
              0.5555555555555556,
              "#d8576b"
             ],
             [
              0.6666666666666666,
              "#ed7953"
             ],
             [
              0.7777777777777778,
              "#fb9f3a"
             ],
             [
              0.8888888888888888,
              "#fdca26"
             ],
             [
              1,
              "#f0f921"
             ]
            ],
            "type": "contour"
           }
          ],
          "contourcarpet": [
           {
            "colorbar": {
             "outlinewidth": 0,
             "ticks": ""
            },
            "type": "contourcarpet"
           }
          ],
          "heatmap": [
           {
            "colorbar": {
             "outlinewidth": 0,
             "ticks": ""
            },
            "colorscale": [
             [
              0,
              "#0d0887"
             ],
             [
              0.1111111111111111,
              "#46039f"
             ],
             [
              0.2222222222222222,
              "#7201a8"
             ],
             [
              0.3333333333333333,
              "#9c179e"
             ],
             [
              0.4444444444444444,
              "#bd3786"
             ],
             [
              0.5555555555555556,
              "#d8576b"
             ],
             [
              0.6666666666666666,
              "#ed7953"
             ],
             [
              0.7777777777777778,
              "#fb9f3a"
             ],
             [
              0.8888888888888888,
              "#fdca26"
             ],
             [
              1,
              "#f0f921"
             ]
            ],
            "type": "heatmap"
           }
          ],
          "heatmapgl": [
           {
            "colorbar": {
             "outlinewidth": 0,
             "ticks": ""
            },
            "colorscale": [
             [
              0,
              "#0d0887"
             ],
             [
              0.1111111111111111,
              "#46039f"
             ],
             [
              0.2222222222222222,
              "#7201a8"
             ],
             [
              0.3333333333333333,
              "#9c179e"
             ],
             [
              0.4444444444444444,
              "#bd3786"
             ],
             [
              0.5555555555555556,
              "#d8576b"
             ],
             [
              0.6666666666666666,
              "#ed7953"
             ],
             [
              0.7777777777777778,
              "#fb9f3a"
             ],
             [
              0.8888888888888888,
              "#fdca26"
             ],
             [
              1,
              "#f0f921"
             ]
            ],
            "type": "heatmapgl"
           }
          ],
          "histogram": [
           {
            "marker": {
             "colorbar": {
              "outlinewidth": 0,
              "ticks": ""
             }
            },
            "type": "histogram"
           }
          ],
          "histogram2d": [
           {
            "colorbar": {
             "outlinewidth": 0,
             "ticks": ""
            },
            "colorscale": [
             [
              0,
              "#0d0887"
             ],
             [
              0.1111111111111111,
              "#46039f"
             ],
             [
              0.2222222222222222,
              "#7201a8"
             ],
             [
              0.3333333333333333,
              "#9c179e"
             ],
             [
              0.4444444444444444,
              "#bd3786"
             ],
             [
              0.5555555555555556,
              "#d8576b"
             ],
             [
              0.6666666666666666,
              "#ed7953"
             ],
             [
              0.7777777777777778,
              "#fb9f3a"
             ],
             [
              0.8888888888888888,
              "#fdca26"
             ],
             [
              1,
              "#f0f921"
             ]
            ],
            "type": "histogram2d"
           }
          ],
          "histogram2dcontour": [
           {
            "colorbar": {
             "outlinewidth": 0,
             "ticks": ""
            },
            "colorscale": [
             [
              0,
              "#0d0887"
             ],
             [
              0.1111111111111111,
              "#46039f"
             ],
             [
              0.2222222222222222,
              "#7201a8"
             ],
             [
              0.3333333333333333,
              "#9c179e"
             ],
             [
              0.4444444444444444,
              "#bd3786"
             ],
             [
              0.5555555555555556,
              "#d8576b"
             ],
             [
              0.6666666666666666,
              "#ed7953"
             ],
             [
              0.7777777777777778,
              "#fb9f3a"
             ],
             [
              0.8888888888888888,
              "#fdca26"
             ],
             [
              1,
              "#f0f921"
             ]
            ],
            "type": "histogram2dcontour"
           }
          ],
          "mesh3d": [
           {
            "colorbar": {
             "outlinewidth": 0,
             "ticks": ""
            },
            "type": "mesh3d"
           }
          ],
          "parcoords": [
           {
            "line": {
             "colorbar": {
              "outlinewidth": 0,
              "ticks": ""
             }
            },
            "type": "parcoords"
           }
          ],
          "scatter": [
           {
            "marker": {
             "colorbar": {
              "outlinewidth": 0,
              "ticks": ""
             }
            },
            "type": "scatter"
           }
          ],
          "scatter3d": [
           {
            "line": {
             "colorbar": {
              "outlinewidth": 0,
              "ticks": ""
             }
            },
            "marker": {
             "colorbar": {
              "outlinewidth": 0,
              "ticks": ""
             }
            },
            "type": "scatter3d"
           }
          ],
          "scattercarpet": [
           {
            "marker": {
             "colorbar": {
              "outlinewidth": 0,
              "ticks": ""
             }
            },
            "type": "scattercarpet"
           }
          ],
          "scattergeo": [
           {
            "marker": {
             "colorbar": {
              "outlinewidth": 0,
              "ticks": ""
             }
            },
            "type": "scattergeo"
           }
          ],
          "scattergl": [
           {
            "marker": {
             "colorbar": {
              "outlinewidth": 0,
              "ticks": ""
             }
            },
            "type": "scattergl"
           }
          ],
          "scattermapbox": [
           {
            "marker": {
             "colorbar": {
              "outlinewidth": 0,
              "ticks": ""
             }
            },
            "type": "scattermapbox"
           }
          ],
          "scatterpolar": [
           {
            "marker": {
             "colorbar": {
              "outlinewidth": 0,
              "ticks": ""
             }
            },
            "type": "scatterpolar"
           }
          ],
          "scatterpolargl": [
           {
            "marker": {
             "colorbar": {
              "outlinewidth": 0,
              "ticks": ""
             }
            },
            "type": "scatterpolargl"
           }
          ],
          "scatterternary": [
           {
            "marker": {
             "colorbar": {
              "outlinewidth": 0,
              "ticks": ""
             }
            },
            "type": "scatterternary"
           }
          ],
          "surface": [
           {
            "colorbar": {
             "outlinewidth": 0,
             "ticks": ""
            },
            "colorscale": [
             [
              0,
              "#0d0887"
             ],
             [
              0.1111111111111111,
              "#46039f"
             ],
             [
              0.2222222222222222,
              "#7201a8"
             ],
             [
              0.3333333333333333,
              "#9c179e"
             ],
             [
              0.4444444444444444,
              "#bd3786"
             ],
             [
              0.5555555555555556,
              "#d8576b"
             ],
             [
              0.6666666666666666,
              "#ed7953"
             ],
             [
              0.7777777777777778,
              "#fb9f3a"
             ],
             [
              0.8888888888888888,
              "#fdca26"
             ],
             [
              1,
              "#f0f921"
             ]
            ],
            "type": "surface"
           }
          ],
          "table": [
           {
            "cells": {
             "fill": {
              "color": "#EBF0F8"
             },
             "line": {
              "color": "white"
             }
            },
            "header": {
             "fill": {
              "color": "#C8D4E3"
             },
             "line": {
              "color": "white"
             }
            },
            "type": "table"
           }
          ]
         },
         "layout": {
          "annotationdefaults": {
           "arrowcolor": "#2a3f5f",
           "arrowhead": 0,
           "arrowwidth": 1
          },
          "colorscale": {
           "diverging": [
            [
             0,
             "#8e0152"
            ],
            [
             0.1,
             "#c51b7d"
            ],
            [
             0.2,
             "#de77ae"
            ],
            [
             0.3,
             "#f1b6da"
            ],
            [
             0.4,
             "#fde0ef"
            ],
            [
             0.5,
             "#f7f7f7"
            ],
            [
             0.6,
             "#e6f5d0"
            ],
            [
             0.7,
             "#b8e186"
            ],
            [
             0.8,
             "#7fbc41"
            ],
            [
             0.9,
             "#4d9221"
            ],
            [
             1,
             "#276419"
            ]
           ],
           "sequential": [
            [
             0,
             "#0d0887"
            ],
            [
             0.1111111111111111,
             "#46039f"
            ],
            [
             0.2222222222222222,
             "#7201a8"
            ],
            [
             0.3333333333333333,
             "#9c179e"
            ],
            [
             0.4444444444444444,
             "#bd3786"
            ],
            [
             0.5555555555555556,
             "#d8576b"
            ],
            [
             0.6666666666666666,
             "#ed7953"
            ],
            [
             0.7777777777777778,
             "#fb9f3a"
            ],
            [
             0.8888888888888888,
             "#fdca26"
            ],
            [
             1,
             "#f0f921"
            ]
           ],
           "sequentialminus": [
            [
             0,
             "#0d0887"
            ],
            [
             0.1111111111111111,
             "#46039f"
            ],
            [
             0.2222222222222222,
             "#7201a8"
            ],
            [
             0.3333333333333333,
             "#9c179e"
            ],
            [
             0.4444444444444444,
             "#bd3786"
            ],
            [
             0.5555555555555556,
             "#d8576b"
            ],
            [
             0.6666666666666666,
             "#ed7953"
            ],
            [
             0.7777777777777778,
             "#fb9f3a"
            ],
            [
             0.8888888888888888,
             "#fdca26"
            ],
            [
             1,
             "#f0f921"
            ]
           ]
          },
          "colorway": [
           "#636efa",
           "#EF553B",
           "#00cc96",
           "#ab63fa",
           "#FFA15A",
           "#19d3f3",
           "#FF6692",
           "#B6E880",
           "#FF97FF",
           "#FECB52"
          ],
          "font": {
           "color": "#2a3f5f"
          },
          "geo": {
           "bgcolor": "white",
           "lakecolor": "white",
           "landcolor": "#E5ECF6",
           "showlakes": true,
           "showland": true,
           "subunitcolor": "white"
          },
          "hoverlabel": {
           "align": "left"
          },
          "hovermode": "closest",
          "mapbox": {
           "style": "light"
          },
          "paper_bgcolor": "white",
          "plot_bgcolor": "#E5ECF6",
          "polar": {
           "angularaxis": {
            "gridcolor": "white",
            "linecolor": "white",
            "ticks": ""
           },
           "bgcolor": "#E5ECF6",
           "radialaxis": {
            "gridcolor": "white",
            "linecolor": "white",
            "ticks": ""
           }
          },
          "scene": {
           "xaxis": {
            "backgroundcolor": "#E5ECF6",
            "gridcolor": "white",
            "gridwidth": 2,
            "linecolor": "white",
            "showbackground": true,
            "ticks": "",
            "zerolinecolor": "white"
           },
           "yaxis": {
            "backgroundcolor": "#E5ECF6",
            "gridcolor": "white",
            "gridwidth": 2,
            "linecolor": "white",
            "showbackground": true,
            "ticks": "",
            "zerolinecolor": "white"
           },
           "zaxis": {
            "backgroundcolor": "#E5ECF6",
            "gridcolor": "white",
            "gridwidth": 2,
            "linecolor": "white",
            "showbackground": true,
            "ticks": "",
            "zerolinecolor": "white"
           }
          },
          "shapedefaults": {
           "line": {
            "color": "#2a3f5f"
           }
          },
          "ternary": {
           "aaxis": {
            "gridcolor": "white",
            "linecolor": "white",
            "ticks": ""
           },
           "baxis": {
            "gridcolor": "white",
            "linecolor": "white",
            "ticks": ""
           },
           "bgcolor": "#E5ECF6",
           "caxis": {
            "gridcolor": "white",
            "linecolor": "white",
            "ticks": ""
           }
          },
          "title": {
           "x": 0.05
          },
          "xaxis": {
           "automargin": true,
           "gridcolor": "white",
           "linecolor": "white",
           "ticks": "",
           "zerolinecolor": "white",
           "zerolinewidth": 2
          },
          "yaxis": {
           "automargin": true,
           "gridcolor": "white",
           "linecolor": "white",
           "ticks": "",
           "zerolinecolor": "white",
           "zerolinewidth": 2
          }
         }
        },
        "xaxis": {
         "anchor": "y",
         "domain": [
          0,
          0.94
         ]
        },
        "yaxis": {
         "anchor": "x",
         "domain": [
          0,
          1
         ]
        },
        "yaxis2": {
         "anchor": "x",
         "overlaying": "y",
         "side": "right"
        }
       }
      },
      "text/html": [
       "<div>\n",
       "        \n",
       "        \n",
       "            <div id=\"f03684a2-37e8-45c7-a530-bef99f5a33f2\" class=\"plotly-graph-div\" style=\"height:525px; width:100%;\"></div>\n",
       "            <script type=\"text/javascript\">\n",
       "                require([\"plotly\"], function(Plotly) {\n",
       "                    window.PLOTLYENV=window.PLOTLYENV || {};\n",
       "                    \n",
       "                if (document.getElementById(\"f03684a2-37e8-45c7-a530-bef99f5a33f2\")) {\n",
       "                    Plotly.newPlot(\n",
       "                        'f03684a2-37e8-45c7-a530-bef99f5a33f2',\n",
       "                        [{\"line\": {\"color\": \"rgba(0, 0, 100, 0.5)\", \"width\": 1}, \"name\": \"CPPI\", \"type\": \"scatter\", \"x\": [\"Prospecting\", \"AAM\"], \"xaxis\": \"x\", \"y\": [0.10117174882075507, 0.000156327868852459], \"yaxis\": \"y2\"}, {\"marker\": {\"color\": \"lightblue\"}, \"name\": \"Media Cost\", \"type\": \"bar\", \"x\": [\"Prospecting\", \"AAM\"], \"y\": [85.7936430000003, 0.009536]}],\n",
       "                        {\"template\": {\"data\": {\"bar\": [{\"error_x\": {\"color\": \"#2a3f5f\"}, \"error_y\": {\"color\": \"#2a3f5f\"}, \"marker\": {\"line\": {\"color\": \"#E5ECF6\", \"width\": 0.5}}, \"type\": \"bar\"}], \"barpolar\": [{\"marker\": {\"line\": {\"color\": \"#E5ECF6\", \"width\": 0.5}}, \"type\": \"barpolar\"}], \"carpet\": [{\"aaxis\": {\"endlinecolor\": \"#2a3f5f\", \"gridcolor\": \"white\", \"linecolor\": \"white\", \"minorgridcolor\": \"white\", \"startlinecolor\": \"#2a3f5f\"}, \"baxis\": {\"endlinecolor\": \"#2a3f5f\", \"gridcolor\": \"white\", \"linecolor\": \"white\", \"minorgridcolor\": \"white\", \"startlinecolor\": \"#2a3f5f\"}, \"type\": \"carpet\"}], \"choropleth\": [{\"colorbar\": {\"outlinewidth\": 0, \"ticks\": \"\"}, \"type\": \"choropleth\"}], \"contour\": [{\"colorbar\": {\"outlinewidth\": 0, \"ticks\": \"\"}, \"colorscale\": [[0.0, \"#0d0887\"], [0.1111111111111111, \"#46039f\"], [0.2222222222222222, \"#7201a8\"], [0.3333333333333333, \"#9c179e\"], [0.4444444444444444, \"#bd3786\"], [0.5555555555555556, \"#d8576b\"], [0.6666666666666666, \"#ed7953\"], [0.7777777777777778, \"#fb9f3a\"], [0.8888888888888888, \"#fdca26\"], [1.0, \"#f0f921\"]], \"type\": \"contour\"}], \"contourcarpet\": [{\"colorbar\": {\"outlinewidth\": 0, \"ticks\": \"\"}, \"type\": \"contourcarpet\"}], \"heatmap\": [{\"colorbar\": {\"outlinewidth\": 0, \"ticks\": \"\"}, \"colorscale\": [[0.0, \"#0d0887\"], [0.1111111111111111, \"#46039f\"], [0.2222222222222222, \"#7201a8\"], [0.3333333333333333, \"#9c179e\"], [0.4444444444444444, \"#bd3786\"], [0.5555555555555556, \"#d8576b\"], [0.6666666666666666, \"#ed7953\"], [0.7777777777777778, \"#fb9f3a\"], [0.8888888888888888, \"#fdca26\"], [1.0, \"#f0f921\"]], \"type\": \"heatmap\"}], \"heatmapgl\": [{\"colorbar\": {\"outlinewidth\": 0, \"ticks\": \"\"}, \"colorscale\": [[0.0, \"#0d0887\"], [0.1111111111111111, \"#46039f\"], [0.2222222222222222, \"#7201a8\"], [0.3333333333333333, \"#9c179e\"], [0.4444444444444444, \"#bd3786\"], [0.5555555555555556, \"#d8576b\"], [0.6666666666666666, \"#ed7953\"], [0.7777777777777778, \"#fb9f3a\"], [0.8888888888888888, \"#fdca26\"], [1.0, \"#f0f921\"]], \"type\": \"heatmapgl\"}], \"histogram\": [{\"marker\": {\"colorbar\": {\"outlinewidth\": 0, \"ticks\": \"\"}}, \"type\": \"histogram\"}], \"histogram2d\": [{\"colorbar\": {\"outlinewidth\": 0, \"ticks\": \"\"}, \"colorscale\": [[0.0, \"#0d0887\"], [0.1111111111111111, \"#46039f\"], [0.2222222222222222, \"#7201a8\"], [0.3333333333333333, \"#9c179e\"], [0.4444444444444444, \"#bd3786\"], [0.5555555555555556, \"#d8576b\"], [0.6666666666666666, \"#ed7953\"], [0.7777777777777778, \"#fb9f3a\"], [0.8888888888888888, \"#fdca26\"], [1.0, \"#f0f921\"]], \"type\": \"histogram2d\"}], \"histogram2dcontour\": [{\"colorbar\": {\"outlinewidth\": 0, \"ticks\": \"\"}, \"colorscale\": [[0.0, \"#0d0887\"], [0.1111111111111111, \"#46039f\"], [0.2222222222222222, \"#7201a8\"], [0.3333333333333333, \"#9c179e\"], [0.4444444444444444, \"#bd3786\"], [0.5555555555555556, \"#d8576b\"], [0.6666666666666666, \"#ed7953\"], [0.7777777777777778, \"#fb9f3a\"], [0.8888888888888888, \"#fdca26\"], [1.0, \"#f0f921\"]], \"type\": \"histogram2dcontour\"}], \"mesh3d\": [{\"colorbar\": {\"outlinewidth\": 0, \"ticks\": \"\"}, \"type\": \"mesh3d\"}], \"parcoords\": [{\"line\": {\"colorbar\": {\"outlinewidth\": 0, \"ticks\": \"\"}}, \"type\": \"parcoords\"}], \"scatter\": [{\"marker\": {\"colorbar\": {\"outlinewidth\": 0, \"ticks\": \"\"}}, \"type\": \"scatter\"}], \"scatter3d\": [{\"line\": {\"colorbar\": {\"outlinewidth\": 0, \"ticks\": \"\"}}, \"marker\": {\"colorbar\": {\"outlinewidth\": 0, \"ticks\": \"\"}}, \"type\": \"scatter3d\"}], \"scattercarpet\": [{\"marker\": {\"colorbar\": {\"outlinewidth\": 0, \"ticks\": \"\"}}, \"type\": \"scattercarpet\"}], \"scattergeo\": [{\"marker\": {\"colorbar\": {\"outlinewidth\": 0, \"ticks\": \"\"}}, \"type\": \"scattergeo\"}], \"scattergl\": [{\"marker\": {\"colorbar\": {\"outlinewidth\": 0, \"ticks\": \"\"}}, \"type\": \"scattergl\"}], \"scattermapbox\": [{\"marker\": {\"colorbar\": {\"outlinewidth\": 0, \"ticks\": \"\"}}, \"type\": \"scattermapbox\"}], \"scatterpolar\": [{\"marker\": {\"colorbar\": {\"outlinewidth\": 0, \"ticks\": \"\"}}, \"type\": \"scatterpolar\"}], \"scatterpolargl\": [{\"marker\": {\"colorbar\": {\"outlinewidth\": 0, \"ticks\": \"\"}}, \"type\": \"scatterpolargl\"}], \"scatterternary\": [{\"marker\": {\"colorbar\": {\"outlinewidth\": 0, \"ticks\": \"\"}}, \"type\": \"scatterternary\"}], \"surface\": [{\"colorbar\": {\"outlinewidth\": 0, \"ticks\": \"\"}, \"colorscale\": [[0.0, \"#0d0887\"], [0.1111111111111111, \"#46039f\"], [0.2222222222222222, \"#7201a8\"], [0.3333333333333333, \"#9c179e\"], [0.4444444444444444, \"#bd3786\"], [0.5555555555555556, \"#d8576b\"], [0.6666666666666666, \"#ed7953\"], [0.7777777777777778, \"#fb9f3a\"], [0.8888888888888888, \"#fdca26\"], [1.0, \"#f0f921\"]], \"type\": \"surface\"}], \"table\": [{\"cells\": {\"fill\": {\"color\": \"#EBF0F8\"}, \"line\": {\"color\": \"white\"}}, \"header\": {\"fill\": {\"color\": \"#C8D4E3\"}, \"line\": {\"color\": \"white\"}}, \"type\": \"table\"}]}, \"layout\": {\"annotationdefaults\": {\"arrowcolor\": \"#2a3f5f\", \"arrowhead\": 0, \"arrowwidth\": 1}, \"colorscale\": {\"diverging\": [[0, \"#8e0152\"], [0.1, \"#c51b7d\"], [0.2, \"#de77ae\"], [0.3, \"#f1b6da\"], [0.4, \"#fde0ef\"], [0.5, \"#f7f7f7\"], [0.6, \"#e6f5d0\"], [0.7, \"#b8e186\"], [0.8, \"#7fbc41\"], [0.9, \"#4d9221\"], [1, \"#276419\"]], \"sequential\": [[0.0, \"#0d0887\"], [0.1111111111111111, \"#46039f\"], [0.2222222222222222, \"#7201a8\"], [0.3333333333333333, \"#9c179e\"], [0.4444444444444444, \"#bd3786\"], [0.5555555555555556, \"#d8576b\"], [0.6666666666666666, \"#ed7953\"], [0.7777777777777778, \"#fb9f3a\"], [0.8888888888888888, \"#fdca26\"], [1.0, \"#f0f921\"]], \"sequentialminus\": [[0.0, \"#0d0887\"], [0.1111111111111111, \"#46039f\"], [0.2222222222222222, \"#7201a8\"], [0.3333333333333333, \"#9c179e\"], [0.4444444444444444, \"#bd3786\"], [0.5555555555555556, \"#d8576b\"], [0.6666666666666666, \"#ed7953\"], [0.7777777777777778, \"#fb9f3a\"], [0.8888888888888888, \"#fdca26\"], [1.0, \"#f0f921\"]]}, \"colorway\": [\"#636efa\", \"#EF553B\", \"#00cc96\", \"#ab63fa\", \"#FFA15A\", \"#19d3f3\", \"#FF6692\", \"#B6E880\", \"#FF97FF\", \"#FECB52\"], \"font\": {\"color\": \"#2a3f5f\"}, \"geo\": {\"bgcolor\": \"white\", \"lakecolor\": \"white\", \"landcolor\": \"#E5ECF6\", \"showlakes\": true, \"showland\": true, \"subunitcolor\": \"white\"}, \"hoverlabel\": {\"align\": \"left\"}, \"hovermode\": \"closest\", \"mapbox\": {\"style\": \"light\"}, \"paper_bgcolor\": \"white\", \"plot_bgcolor\": \"#E5ECF6\", \"polar\": {\"angularaxis\": {\"gridcolor\": \"white\", \"linecolor\": \"white\", \"ticks\": \"\"}, \"bgcolor\": \"#E5ECF6\", \"radialaxis\": {\"gridcolor\": \"white\", \"linecolor\": \"white\", \"ticks\": \"\"}}, \"scene\": {\"xaxis\": {\"backgroundcolor\": \"#E5ECF6\", \"gridcolor\": \"white\", \"gridwidth\": 2, \"linecolor\": \"white\", \"showbackground\": true, \"ticks\": \"\", \"zerolinecolor\": \"white\"}, \"yaxis\": {\"backgroundcolor\": \"#E5ECF6\", \"gridcolor\": \"white\", \"gridwidth\": 2, \"linecolor\": \"white\", \"showbackground\": true, \"ticks\": \"\", \"zerolinecolor\": \"white\"}, \"zaxis\": {\"backgroundcolor\": \"#E5ECF6\", \"gridcolor\": \"white\", \"gridwidth\": 2, \"linecolor\": \"white\", \"showbackground\": true, \"ticks\": \"\", \"zerolinecolor\": \"white\"}}, \"shapedefaults\": {\"line\": {\"color\": \"#2a3f5f\"}}, \"ternary\": {\"aaxis\": {\"gridcolor\": \"white\", \"linecolor\": \"white\", \"ticks\": \"\"}, \"baxis\": {\"gridcolor\": \"white\", \"linecolor\": \"white\", \"ticks\": \"\"}, \"bgcolor\": \"#E5ECF6\", \"caxis\": {\"gridcolor\": \"white\", \"linecolor\": \"white\", \"ticks\": \"\"}}, \"title\": {\"x\": 0.05}, \"xaxis\": {\"automargin\": true, \"gridcolor\": \"white\", \"linecolor\": \"white\", \"ticks\": \"\", \"zerolinecolor\": \"white\", \"zerolinewidth\": 2}, \"yaxis\": {\"automargin\": true, \"gridcolor\": \"white\", \"linecolor\": \"white\", \"ticks\": \"\", \"zerolinecolor\": \"white\", \"zerolinewidth\": 2}}}, \"xaxis\": {\"anchor\": \"y\", \"domain\": [0.0, 0.94]}, \"yaxis\": {\"anchor\": \"x\", \"domain\": [0.0, 1.0]}, \"yaxis2\": {\"anchor\": \"x\", \"overlaying\": \"y\", \"side\": \"right\"}},\n",
       "                        {\"responsive\": true}\n",
       "                    ).then(function(){\n",
       "                            \n",
       "var gd = document.getElementById('f03684a2-37e8-45c7-a530-bef99f5a33f2');\n",
       "var x = new MutationObserver(function (mutations, observer) {{\n",
       "        var display = window.getComputedStyle(gd).display;\n",
       "        if (!display || display === 'none') {{\n",
       "            console.log([gd, 'removed!']);\n",
       "            Plotly.purge(gd);\n",
       "            observer.disconnect();\n",
       "        }}\n",
       "}});\n",
       "\n",
       "// Listen for the removal of the full notebook cells\n",
       "var notebookContainer = gd.closest('#notebook-container');\n",
       "if (notebookContainer) {{\n",
       "    x.observe(notebookContainer, {childList: true});\n",
       "}}\n",
       "\n",
       "// Listen for the clearing of the current output cell\n",
       "var outputEl = gd.closest('.output');\n",
       "if (outputEl) {{\n",
       "    x.observe(outputEl, {childList: true});\n",
       "}}\n",
       "\n",
       "                        })\n",
       "                };\n",
       "                });\n",
       "            </script>\n",
       "        </div>"
      ]
     },
     "metadata": {},
     "output_type": "display_data"
    }
   ],
   "source": [
    "#plot strategy pivot\n",
    "\n",
    "strategy_pivot=pivot_strategy(df)\n",
    "\n",
    "fig = make_subplots(specs=[[{\"secondary_y\": True}]])\n",
    "fig.add_trace(\n",
    "    go.Scatter(\n",
    "        x=strategy_pivot.index,\n",
    "        y=strategy_pivot['CPPI'],\n",
    "        name=\"CPPI\",\n",
    "        line=dict(color='rgba(0, 0, 100, 0.5)', width=1)\n",
    "    ),secondary_y=True)\n",
    "fig.add_trace(\n",
    "    go.Bar(\n",
    "        x=strategy_pivot.index,\n",
    "        y=strategy_pivot['Media Cost'],\n",
    "        name=\"Media Cost\",\n",
    "        marker=dict(color='lightblue')\n",
    "    ))"
   ]
  }
 ],
 "metadata": {
  "kernelspec": {
   "display_name": "Python 3",
   "language": "python",
   "name": "python3"
  },
  "language_info": {
   "codemirror_mode": {
    "name": "ipython",
    "version": 3
   },
   "file_extension": ".py",
   "mimetype": "text/x-python",
   "name": "python",
   "nbconvert_exporter": "python",
   "pygments_lexer": "ipython3",
   "version": "3.7.3"
  }
 },
 "nbformat": 4,
 "nbformat_minor": 2
}
