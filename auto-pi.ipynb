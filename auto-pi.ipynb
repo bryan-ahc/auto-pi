{
 "cells": [
  {
   "cell_type": "code",
   "execution_count": null,
   "metadata": {},
   "outputs": [],
   "source": [
    "import pandas as pd\n",
    "import numpy as np\n",
    "from plotly import __version__\n",
    "import cufflinks as cf\n",
    "from plotly.offline import download_plotlyjs,init_notebook_mode, plot, iplot\n",
    "init_notebook_mode(connected=True)\n",
    "cf.go_offline()\n",
    "import plotly.graph_objects as go\n",
    "from plotly.subplots import make_subplots"
   ]
  },
  {
   "cell_type": "code",
   "execution_count": null,
   "metadata": {},
   "outputs": [],
   "source": [
    "#drop non-shopper IOs\n",
    "def drop_nonshopper(df):\n",
    "    df['Insertion Order']=df['Insertion Order'].str.lower()  \n",
    "    return df[df['Insertion Order'].str.contains(\"shopper\")]"
   ]
  },
  {
   "cell_type": "code",
   "execution_count": null,
   "metadata": {},
   "outputs": [],
   "source": [
    "#define extract name plate function\n",
    "\n",
    "def extract_name_plate(io):\n",
    "    if \"ranger\" in io:\n",
    "        return \"Ranger\"\n",
    "    elif \"everest\" in io:\n",
    "        return \"Everest\"\n",
    "    elif \"focus\" in io:\n",
    "        return \"Focus\"\n",
    "    elif \"escort\" in io:\n",
    "        return \"Escort\"\n",
    "    elif \"ecosport\" in io:\n",
    "        return \"Ecosport\"\n",
    "    elif \"transit\" in io:\n",
    "        return \"Transit\"\n",
    "    elif \"mondeo\" in io:\n",
    "        return \"Mondeo\"\n",
    "    else:\n",
    "        return \"Others\""
   ]
  },
  {
   "cell_type": "code",
   "execution_count": null,
   "metadata": {},
   "outputs": [],
   "source": [
    "pc_score = {}\n",
    "with open(\"pc.txt\") as f:\n",
    "    for line in f:\n",
    "        l=line.split()\n",
    "        val=l[len(l)-1]\n",
    "        key=line.replace(\" \"+val,\"\")\n",
    "        key=key.rstrip()\n",
    "        pc_score[(key)]=val\n",
    "        \n",
    "mobile_score = {}\n",
    "with open(\"mobile.txt\") as f:\n",
    "    for line in f:\n",
    "        l=line.split()\n",
    "        val=l[len(l)-1]\n",
    "        key=line.replace(\" \"+val,\"\")\n",
    "        key=key.rstrip()\n",
    "        mobile_score[(key)] = val"
   ]
  },
  {
   "cell_type": "code",
   "execution_count": null,
   "metadata": {},
   "outputs": [],
   "source": [
    "#define create tactic column\n",
    "\n",
    "def add_tactic_column(df):\n",
    "    df['Tactic']=df.apply(lambda row: 'RTG LAL Intender' if (('Intender' in str(row['Line Item'])) and ('Custom HIP' in str(row['Line Item'])))\n",
    "                          else ('RTG LAL Ready to Buy' if (('Ready' in str(row['Line Item'])) and ('Custom HIP' in str(row['Line Item'])))\n",
    "                              else ('RTG LAL Researcher' if (('Research' in str(row['Line Item'])) and ('Custom HIP' in str(row['Line Item'])))\n",
    "                                else ('RTG LAL Dealership' if (('Dearlership' in str(row['Line Item'])) and ('Custom HIP' in str(row['Line Item'])))\n",
    "                                    else ('RTG '+ 'Ready to Buy' if (('RTG' in str(row['Line Item'])) and ('Ready' in str(row['Line Item'])))\n",
    "                                        else ('RTG '+ 'Researcher' if (('RTG' in str(row['Line Item'])) and ('Research' in str(row['Line Item'])))\n",
    "                                            else ('RTG '+ 'Dealership' if (('RTG' in str(row['Line Item'])) and ('Dealership' in str(row['Line Item'])))\n",
    "                                                else ('RTG '+ 'Intender' if (('RTG' in str(row['Line Item'])) and ('Intender' in str(row['Line Item'])))\n",
    "                                                    else ('RTG '+ 'Others' if (('RTG' in str(row['Line Item'])))\n",
    "                                                        else ('Competitor '+ 'Keywords' if (('Keywords' in str(row['Line Item'])) or ('Keyword' in str(row['Line Item'])))\n",
    "                                                            else ('Competitor '+ 'Categories' if (('Categories' in str(row['Line Item'])) or ('Category' in str(row['Line Item'])))\n",
    "                                                                else ('Competitor '+ 'LAL' if ('LAL' in str(row['Line Item']))\n",
    "                                                                        else ('Competitor '+ 'Custom Affinity' if (('Custom_Affinity' or 'Custom Affinity') in str(row['Line Item']))\n",
    "                                                                            else ('Competitor '+ 'In market' if (('In market' in str(row['Line Item'])) or ('In Market' in str(row['Line Item'])) or ('InMarket' in str(row['Line Item']))or ('In-Market' in str(row['Line Item']))or ('In-market' in str(row['Line Item'])))\n",
    "                                                                                else ('Competitor '+ 'PG Deals' if ('PG Deals' in str(row['Line Item']))\n",
    "                                                                                    else ('Competitor '+ 'Custom Intent' if (('Custom Intent' in str(row['Line Item'])) or ('Custom intent' in str(row['Line Item'])))\n",
    "                                                                                        else ('Competitor '+ 'Website' if (('Website' in str(row['Line Item'])) or ('website' in str(row['Line Item'])))\n",
    "                                                                                            else ('Competitor '+ 'Affinity' if ('Affinity' in str(row['Line Item']))\n",
    "                                                                                                else 'Competitor (Others)'\n",
    "                                                                                                )\n",
    "                                                                                            )\n",
    "                                                                                        )\n",
    "                                                                                    )\n",
    "                                                                                )\n",
    "                                                                            )\n",
    "                                                                        )\n",
    "                                                                    )\n",
    "                                                                )\n",
    "                                                            )\n",
    "                                                        )\n",
    "                                                    )\n",
    "                                                )\n",
    "                                            )\n",
    "                                       )\n",
    "                                   )\n",
    "                               )\n",
    "                            ,axis=1)\n",
    "    return df\n"
   ]
  },
  {
   "cell_type": "code",
   "execution_count": null,
   "metadata": {},
   "outputs": [],
   "source": [
    "#define create strategy column\n",
    "\n",
    "def add_strategy_column(df):\n",
    "    df['Strategy']=df.apply(lambda row: 'AAM LAL' if (('Custom HIP') or ('Custom Hip')) in str(row['Line Item'])\n",
    "                          else ('Prospecting' if 'Competitor' in row['Line Item'] else 'AAM'\n",
    "                              ),axis=1)\n",
    "    return df"
   ]
  },
  {
   "cell_type": "code",
   "execution_count": null,
   "metadata": {},
   "outputs": [],
   "source": [
    "#define create PI weight column\n",
    "\n",
    "def add_weight_column(df):\n",
    "    df['weight']=df.apply(lambda row: 0 if ((row['Floodlight Activity Name'] == 'Unknown') or (pc_score.get(str(row['Floodlight Activity Name'])) is None))\n",
    "                          else (float(pc_score.get(str(row['Floodlight Activity Name']))) if row['Device Type']=='Desktop' else( float(mobile_score.get(str(row['Floodlight Activity Name']))) )\n",
    "                              ),axis=1)\n",
    "    return df"
   ]
  },
  {
   "cell_type": "code",
   "execution_count": null,
   "metadata": {},
   "outputs": [],
   "source": [
    "#define create name plate column\n",
    "\n",
    "def add_name_plate_column(df):\n",
    "    df['Name Plate']=df.apply(lambda row: extract_name_plate(str(row['Insertion Order'])),axis=1)\n",
    "    return df\n",
    "    "
   ]
  },
  {
   "cell_type": "code",
   "execution_count": null,
   "metadata": {},
   "outputs": [],
   "source": [
    "#define create browser family column\n",
    "\n",
    "def add_browser_family_column(df):\n",
    "    df['browser_family']=df.apply(lambda row: 'Safari' if 'Safari' in str(row['Browser'])\n",
    "                          else ('Internet Explorer' if 'Internet Explorer' in row['Browser'] else row['Browser']\n",
    "                              ),axis=1)\n",
    "    return df"
   ]
  },
  {
   "cell_type": "code",
   "execution_count": null,
   "metadata": {},
   "outputs": [],
   "source": [
    "#define create OS family column\n",
    "\n",
    "def add_os_family_column(df):\n",
    "    df['OS Family']=df.apply(lambda row: 'Android' if 'Android' in str(row['Operating System'])\n",
    "                          else ('iOS' if 'iOS' in row['Operating System'] else ('Windows' if 'Windows' in str(row['Operating System']) else row['Operating System'])\n",
    "                              ),axis=1)\n",
    "    return df"
   ]
  },
  {
   "cell_type": "code",
   "execution_count": null,
   "metadata": {},
   "outputs": [],
   "source": [
    "#define create total PI column\n",
    "\n",
    "def add_pi_column(df):\n",
    "    df['PI']=df.apply(lambda row: row['weight']*row['Total Conversions'],axis=1)\n",
    "    return df"
   ]
  },
  {
   "cell_type": "code",
   "execution_count": null,
   "metadata": {},
   "outputs": [],
   "source": [
    "#define create table for device\n",
    "def pivot_device(df):\n",
    "    pivot_device=df.pivot_table(index='Device Type',values=['PI','Media Cost'],aggfunc=np.sum)\n",
    "    pivot_device['CPPI']=pivot_device.apply(lambda row: row['Media Cost'] / row['PI'] if row['PI']!=0 else 0,axis=1)\n",
    "    pivot_device.sort_values(['Media Cost'],ascending=False)\n",
    "    return pivot_device"
   ]
  },
  {
   "cell_type": "code",
   "execution_count": null,
   "metadata": {},
   "outputs": [],
   "source": [
    "#define create table for strategy\n",
    "def pivot_strategy(df):\n",
    "    pivot_strategy=df.pivot_table(index='Strategy',values=['PI','Media Cost'],aggfunc=np.sum)\n",
    "    pivot_strategy['CPPI']=pivot_strategy.apply(lambda row: row['Media Cost'] / row['PI'] if row['PI']!=0 else 0,axis=1)\n",
    "    pivot_strategy=pivot_strategy.sort_values(['Media Cost'],ascending=False)\n",
    "    return pivot_strategy"
   ]
  },
  {
   "cell_type": "code",
   "execution_count": null,
   "metadata": {},
   "outputs": [],
   "source": [
    "#define create table for tactic\n",
    "def pivot_tactic(df):\n",
    "    pivot_tactic=df.pivot_table(index='Tactic',values=['PI','Media Cost'],aggfunc=np.sum)\n",
    "    pivot_tactic['CPPI']=pivot_tactic.apply(lambda row: row['Media Cost'] / row['PI'] if row['PI']!=0 else 0,axis=1)\n",
    "    pivot_tactic=pivot_tactic.sort_values(['Media Cost'],ascending=False)\n",
    "    return pivot_tactic"
   ]
  },
  {
   "cell_type": "code",
   "execution_count": null,
   "metadata": {},
   "outputs": [],
   "source": [
    "#define create table for browser family\n",
    "def pivot_browser_family(df):\n",
    "    pivot=df.pivot_table(index='browser_family',values=['PI','Media Cost'],aggfunc=np.sum)\n",
    "    pivot['CPPI']=pivot.apply(lambda row: row['Media Cost'] / row['PI'] if row['PI']!=0 else 0,axis=1)\n",
    "    pivot=pivot.sort_values(['Media Cost'],ascending=False)\n",
    "    return pivot"
   ]
  },
  {
   "cell_type": "code",
   "execution_count": null,
   "metadata": {},
   "outputs": [],
   "source": [
    "#define create table for OS family\n",
    "def pivot_os_family(df):\n",
    "    pivot=df.pivot_table(index='OS Family',values=['PI','Media Cost'],aggfunc=np.sum)\n",
    "    pivot['CPPI']=pivot.apply(lambda row: row['Media Cost'] / row['PI'] if row['PI']!=0 else 0,axis=1)\n",
    "    pivot=pivot.sort_values(['Media Cost'],ascending=False)\n",
    "    return pivot"
   ]
  },
  {
   "cell_type": "code",
   "execution_count": null,
   "metadata": {},
   "outputs": [],
   "source": [
    "#define create table for URL\n",
    "def pivot_url(df):\n",
    "    pivot=df.pivot_table(index='App/URL',values=['PI','Media Cost'],aggfunc=np.sum)\n",
    "    pivot['CPPI']=pivot.apply(lambda row: row['Media Cost'] / row['PI'] if row['PI']!=0 else 0,axis=1)\n",
    "    pivot=pivot.sort_values(['Media Cost'],ascending=False)\n",
    "    return pivot"
   ]
  },
  {
   "cell_type": "code",
   "execution_count": null,
   "metadata": {},
   "outputs": [],
   "source": [
    "#define create table for tactic-device\n",
    "def pivot_tactic_device(df):\n",
    "    pivot_tactic=df.pivot_table(index=['Tactic','Device Type'],values=['PI','Media Cost'],aggfunc=np.sum)\n",
    "    pivot_tactic['CPPI']=pivot_tactic.apply(lambda row: row['Media Cost'] / row['PI'] if row['PI']!=0 else 0,axis=1)\n",
    "    pivot_tactic=pivot_tactic.sort_values(['Tactic'],ascending=True)\n",
    "    return pivot_tactic"
   ]
  },
  {
   "cell_type": "code",
   "execution_count": null,
   "metadata": {},
   "outputs": [],
   "source": [
    "#define create table for strategy-device\n",
    "def pivot_strategy_device(df):\n",
    "    pivot_tactic=df.pivot_table(index=['Strategy','Device Type'],values=['PI','Media Cost'],aggfunc=np.sum)\n",
    "    pivot_tactic['CPPI']=pivot_tactic.apply(lambda row: row['Media Cost'] / row['PI'] if row['PI']!=0 else 0,axis=1)\n",
    "    pivot_tactic=pivot_tactic.sort_values(['Strategy'],ascending=True)\n",
    "    return pivot_tactic"
   ]
  },
  {
   "cell_type": "code",
   "execution_count": null,
   "metadata": {},
   "outputs": [],
   "source": [
    "#define create table for pixel\n",
    "def pivot_pixel(df):\n",
    "    df=df[df['Floodlight Activity Name']!='Unknown']\n",
    "    pivot_tactic=df.pivot_table(index=['Floodlight Activity Name','Device Type','weight'],values=['Total Conversions','PI'],aggfunc=np.sum)\n",
    "    pivot_tactic=pivot_tactic.sort_values(['Floodlight Activity Name'],ascending=True)\n",
    "    pivot_tactic.rename(columns={\"PI\": \"Total PI\"})\n",
    "    return pivot_tactic"
   ]
  },
  {
   "cell_type": "code",
   "execution_count": null,
   "metadata": {},
   "outputs": [],
   "source": [
    "#define write to excel function\n",
    "\n",
    "def write_to_excel(df, df2,df21,df3,df31,df4,df5,df6,sheet,writer):\n",
    "    df.to_excel(writer,sheet_name=sheet,startrow=0 , startcol=0)   \n",
    "    df2.to_excel(writer,sheet_name=sheet,startrow=len(df.index)+2, startcol=0) \n",
    "    df21.to_excel(writer,sheet_name=sheet,startrow=len(df.index)+2, startcol=5) \n",
    "    df3.to_excel(writer,sheet_name=sheet,startrow=len(df21.index)+2+len(df.index)+2, startcol=0)\n",
    "    df31.to_excel(writer,sheet_name=sheet,startrow=len(df21.index)+2+len(df.index)+2, startcol=5)\n",
    "    df4.to_excel(writer,sheet_name=sheet,startrow=len(df31.index)+2+len(df21.index)+2+len(df.index)+2, startcol=0)\n",
    "    df5.to_excel(writer,sheet_name=sheet,startrow=len(df4.index)+2+len(df31.index)+2+len(df21.index)+2+len(df.index)+2, startcol=0)\n",
    "    df6.to_excel(writer,sheet_name=sheet,startrow=0, startcol=11)"
   ]
  },
  {
   "cell_type": "code",
   "execution_count": null,
   "metadata": {},
   "outputs": [],
   "source": [
    "#define main function\n",
    "\n",
    "def generate_pi_report():\n",
    "    df=pd.read_csv(\"input.csv\")\n",
    "    df=df.rename(columns={\"Total Media Cost (Advertiser Currency)\": \"Media Cost\"})\n",
    "    df=df.dropna()\n",
    "    df=drop_nonshopper(df)\n",
    "    df=add_name_plate_column(df)\n",
    "    df=add_strategy_column(df)\n",
    "    df=add_weight_column(df)\n",
    "    df=add_pi_column(df)\n",
    "    df=add_tactic_column(df)\n",
    "    df=add_browser_family_column(df)\n",
    "    df=add_os_family_column(df)\n",
    "    nPlates=df['Name Plate'].unique()\n",
    "    writer = pd.ExcelWriter('PI report.xlsx', engine='xlsxwriter')\n",
    "    workbook=writer.book\n",
    "    money_fmt = workbook.add_format({'num_format': '$#,##0'})\n",
    "    CPPI_fmt = workbook.add_format({'num_format': '#,##0.00'})\n",
    "    url_fmt = workbook.add_format({'align': 'right'})\n",
    "    \n",
    "    for x in range(nPlates.size):\n",
    "        worksheet=workbook.add_worksheet(str(nPlates[x]))    \n",
    "        worksheet.set_zoom(75)\n",
    "        worksheet.set_column('A:A', 15)\n",
    "        worksheet.set_column('F:G', 15)\n",
    "        worksheet.set_column('L2:L10000', 40,url_fmt)\n",
    "        worksheet.set_column('B:B', 10, money_fmt)\n",
    "        worksheet.set_column('H:H', 10, money_fmt)\n",
    "        worksheet.set_column('M:M', 10, money_fmt)\n",
    "        worksheet.set_column('D:D', 10, CPPI_fmt)\n",
    "        worksheet.set_column('J:J', 10, CPPI_fmt)\n",
    "        worksheet.set_column('O:O', 10, CPPI_fmt)\n",
    "        writer.sheets[str(nPlates[x])]=worksheet\n",
    "        df1=df[df['Name Plate']==nPlates[x]]\n",
    "        p1=pivot_device(df1)\n",
    "        p2=pivot_strategy(df1)\n",
    "        p21=pivot_strategy_device(df1)\n",
    "        p3=pivot_tactic(df1)\n",
    "        p31=pivot_tactic_device(df1)\n",
    "        p4=pivot_os_family(df1)\n",
    "        p5=pivot_browser_family(df1)\n",
    "        p6=pivot_url(df1)\n",
    "        write_to_excel(p1,p2,p21,p3,p31,p4,p5,p6,str(nPlates[x]),writer) \n",
    "        worksheet=workbook.add_worksheet(str(nPlates[x])+\" PI Contribution\")\n",
    "        worksheet.set_column('A:A', 40)\n",
    "        worksheet.set_column('B:B', 20)\n",
    "        worksheet.set_column('E:E', 20)\n",
    "        worksheet.set_zoom(75)\n",
    "        writer.sheets[str(nPlates[x])+\" PI Contribution\"]=worksheet\n",
    "        pc1=pivot_pixel(df1)\n",
    "        if pc1.size>0:\n",
    "            pc1.to_excel(writer,sheet_name=str(nPlates[x]+\" PI Contribution\"),startrow=0 , startcol=0) \n",
    "    writer.save()\n",
    "    return df\n",
    "    "
   ]
  },
  {
   "cell_type": "code",
   "execution_count": null,
   "metadata": {
    "scrolled": true
   },
   "outputs": [],
   "source": [
    "df=generate_pi_report()"
   ]
  },
  {
   "cell_type": "code",
   "execution_count": null,
   "metadata": {},
   "outputs": [],
   "source": [
    "pivot_tactic(df)"
   ]
  },
  {
   "cell_type": "code",
   "execution_count": null,
   "metadata": {},
   "outputs": [],
   "source": [
    "#plot strategy pivot\n",
    "\n",
    "strategy_pivot=pivot_strategy(df)\n",
    "\n",
    "fig = make_subplots(specs=[[{\"secondary_y\": True}]])\n",
    "fig.add_trace(\n",
    "    go.Scatter(\n",
    "        x=strategy_pivot.index,\n",
    "        y=strategy_pivot['CPPI'],\n",
    "        name=\"CPPI\",\n",
    "        line=dict(color='rgba(0, 0, 100, 0.5)', width=1)\n",
    "    ),secondary_y=True)\n",
    "fig.add_trace(\n",
    "    go.Bar(\n",
    "        x=strategy_pivot.index,\n",
    "        y=strategy_pivot['Media Cost'],\n",
    "        name=\"Media Cost\",\n",
    "        marker=dict(color='lightblue')\n",
    "    ))"
   ]
  }
 ],
 "metadata": {
  "kernelspec": {
   "display_name": "Python 3",
   "language": "python",
   "name": "python3"
  },
  "language_info": {
   "codemirror_mode": {
    "name": "ipython",
    "version": 3
   },
   "file_extension": ".py",
   "mimetype": "text/x-python",
   "name": "python",
   "nbconvert_exporter": "python",
   "pygments_lexer": "ipython3",
   "version": "3.7.3"
  }
 },
 "nbformat": 4,
 "nbformat_minor": 2
}
