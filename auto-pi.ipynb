{
 "cells": [
  {
   "cell_type": "code",
   "execution_count": 1,
   "metadata": {},
   "outputs": [
    {
     "data": {
      "text/html": [
       "        <script type=\"text/javascript\">\n",
       "        window.PlotlyConfig = {MathJaxConfig: 'local'};\n",
       "        if (window.MathJax) {MathJax.Hub.Config({SVG: {font: \"STIX-Web\"}});}\n",
       "        if (typeof require !== 'undefined') {\n",
       "        require.undef(\"plotly\");\n",
       "        requirejs.config({\n",
       "            paths: {\n",
       "                'plotly': ['https://cdn.plot.ly/plotly-latest.min']\n",
       "            }\n",
       "        });\n",
       "        require(['plotly'], function(Plotly) {\n",
       "            window._Plotly = Plotly;\n",
       "        });\n",
       "        }\n",
       "        </script>\n",
       "        "
      ]
     },
     "metadata": {},
     "output_type": "display_data"
    },
    {
     "data": {
      "text/html": [
       "        <script type=\"text/javascript\">\n",
       "        window.PlotlyConfig = {MathJaxConfig: 'local'};\n",
       "        if (window.MathJax) {MathJax.Hub.Config({SVG: {font: \"STIX-Web\"}});}\n",
       "        if (typeof require !== 'undefined') {\n",
       "        require.undef(\"plotly\");\n",
       "        requirejs.config({\n",
       "            paths: {\n",
       "                'plotly': ['https://cdn.plot.ly/plotly-latest.min']\n",
       "            }\n",
       "        });\n",
       "        require(['plotly'], function(Plotly) {\n",
       "            window._Plotly = Plotly;\n",
       "        });\n",
       "        }\n",
       "        </script>\n",
       "        "
      ]
     },
     "metadata": {},
     "output_type": "display_data"
    }
   ],
   "source": [
    "import pandas as pd\n",
    "import numpy as np\n",
    "from plotly import __version__\n",
    "import cufflinks as cf\n",
    "from plotly.offline import download_plotlyjs,init_notebook_mode, plot, iplot\n",
    "init_notebook_mode(connected=True)\n",
    "cf.go_offline()\n",
    "import plotly.graph_objects as go\n",
    "from plotly.subplots import make_subplots"
   ]
  },
  {
   "cell_type": "code",
   "execution_count": 2,
   "metadata": {},
   "outputs": [
    {
     "name": "stderr",
     "output_type": "stream",
     "text": [
      "C:\\ProgramData\\Anaconda3\\lib\\site-packages\\IPython\\core\\interactiveshell.py:3057: DtypeWarning:\n",
      "\n",
      "Columns (3,4,5,6,7,8) have mixed types. Specify dtype option on import or set low_memory=False.\n",
      "\n"
     ]
    },
    {
     "data": {
      "text/html": [
       "<div>\n",
       "<style scoped>\n",
       "    .dataframe tbody tr th:only-of-type {\n",
       "        vertical-align: middle;\n",
       "    }\n",
       "\n",
       "    .dataframe tbody tr th {\n",
       "        vertical-align: top;\n",
       "    }\n",
       "\n",
       "    .dataframe thead th {\n",
       "        text-align: right;\n",
       "    }\n",
       "</style>\n",
       "<table border=\"1\" class=\"dataframe\">\n",
       "  <thead>\n",
       "    <tr style=\"text-align: right;\">\n",
       "      <th></th>\n",
       "      <th>Advertiser</th>\n",
       "      <th>Advertiser Currency</th>\n",
       "      <th>Insertion Order</th>\n",
       "      <th>Line Item</th>\n",
       "      <th>Device Type</th>\n",
       "      <th>Floodlight Activity Name</th>\n",
       "      <th>Browser</th>\n",
       "      <th>Operating System</th>\n",
       "      <th>App/URL</th>\n",
       "      <th>Impressions</th>\n",
       "      <th>Clicks</th>\n",
       "      <th>Total Conversions</th>\n",
       "      <th>Media Cost</th>\n",
       "      <th>Custom Bidding: Total impression custom value</th>\n",
       "    </tr>\n",
       "  </thead>\n",
       "  <tbody>\n",
       "    <tr>\n",
       "      <th>0</th>\n",
       "      <td>{MS} {BU: VN} Ford Linked</td>\n",
       "      <td>USD</td>\n",
       "      <td>XVN19-0192_Everest_Q4_Shopper_Desktop_01136396</td>\n",
       "      <td>Competitor_Conquest_Intender_Desktop_01136396</td>\n",
       "      <td>Desktop</td>\n",
       "      <td>Unknown</td>\n",
       "      <td>Chrome</td>\n",
       "      <td>Macintosh</td>\n",
       "      <td>17track.net</td>\n",
       "      <td>2.0</td>\n",
       "      <td>0.0</td>\n",
       "      <td>0.0</td>\n",
       "      <td>0.001497</td>\n",
       "      <td>0.00</td>\n",
       "    </tr>\n",
       "    <tr>\n",
       "      <th>1</th>\n",
       "      <td>{MS} {BU: VN} Ford Linked</td>\n",
       "      <td>USD</td>\n",
       "      <td>XVN19-0192_Everest_Q4_Shopper_Desktop_01136396</td>\n",
       "      <td>Competitor_Conquest_Intender_Desktop_01136396</td>\n",
       "      <td>Desktop</td>\n",
       "      <td>Unknown</td>\n",
       "      <td>Chrome</td>\n",
       "      <td>Macintosh</td>\n",
       "      <td>24h.com.vn</td>\n",
       "      <td>9.0</td>\n",
       "      <td>0.0</td>\n",
       "      <td>0.0</td>\n",
       "      <td>0.009043</td>\n",
       "      <td>0.00</td>\n",
       "    </tr>\n",
       "    <tr>\n",
       "      <th>2</th>\n",
       "      <td>{MS} {BU: VN} Ford Linked</td>\n",
       "      <td>USD</td>\n",
       "      <td>XVN19-0192_Everest_Q4_Shopper_Desktop_01136396</td>\n",
       "      <td>Competitor_Conquest_Intender_Desktop_01136396</td>\n",
       "      <td>Desktop</td>\n",
       "      <td>Unknown</td>\n",
       "      <td>Chrome</td>\n",
       "      <td>Macintosh</td>\n",
       "      <td>9gag.com</td>\n",
       "      <td>1.0</td>\n",
       "      <td>0.0</td>\n",
       "      <td>0.0</td>\n",
       "      <td>0.000675</td>\n",
       "      <td>0.00</td>\n",
       "    </tr>\n",
       "    <tr>\n",
       "      <th>3</th>\n",
       "      <td>{MS} {BU: VN} Ford Linked</td>\n",
       "      <td>USD</td>\n",
       "      <td>XVN19-0192_Everest_Q4_Shopper_Desktop_01136396</td>\n",
       "      <td>Competitor_Conquest_Intender_Desktop_01136396</td>\n",
       "      <td>Desktop</td>\n",
       "      <td>Unknown</td>\n",
       "      <td>Chrome</td>\n",
       "      <td>Macintosh</td>\n",
       "      <td>Low volume inventory</td>\n",
       "      <td>7.0</td>\n",
       "      <td>0.0</td>\n",
       "      <td>0.0</td>\n",
       "      <td>0.003830</td>\n",
       "      <td>0.00</td>\n",
       "    </tr>\n",
       "    <tr>\n",
       "      <th>4</th>\n",
       "      <td>NaN</td>\n",
       "      <td>NaN</td>\n",
       "      <td>NaN</td>\n",
       "      <td>NaN</td>\n",
       "      <td>NaN</td>\n",
       "      <td>NaN</td>\n",
       "      <td>NaN</td>\n",
       "      <td>NaN</td>\n",
       "      <td>NaN</td>\n",
       "      <td>NaN</td>\n",
       "      <td>NaN</td>\n",
       "      <td>NaN</td>\n",
       "      <td>NaN</td>\n",
       "      <td>NaN</td>\n",
       "    </tr>\n",
       "    <tr>\n",
       "      <th>5</th>\n",
       "      <td>NaN</td>\n",
       "      <td>NaN</td>\n",
       "      <td>NaN</td>\n",
       "      <td>NaN</td>\n",
       "      <td>NaN</td>\n",
       "      <td>NaN</td>\n",
       "      <td>NaN</td>\n",
       "      <td>NaN</td>\n",
       "      <td>NaN</td>\n",
       "      <td>NaN</td>\n",
       "      <td>NaN</td>\n",
       "      <td>NaN</td>\n",
       "      <td>NaN</td>\n",
       "      <td>NaN</td>\n",
       "    </tr>\n",
       "    <tr>\n",
       "      <th>6</th>\n",
       "      <td>NaN</td>\n",
       "      <td>NaN</td>\n",
       "      <td>NaN</td>\n",
       "      <td>NaN</td>\n",
       "      <td>NaN</td>\n",
       "      <td>NaN</td>\n",
       "      <td>NaN</td>\n",
       "      <td>NaN</td>\n",
       "      <td>NaN</td>\n",
       "      <td>NaN</td>\n",
       "      <td>NaN</td>\n",
       "      <td>NaN</td>\n",
       "      <td>NaN</td>\n",
       "      <td>NaN</td>\n",
       "    </tr>\n",
       "    <tr>\n",
       "      <th>7</th>\n",
       "      <td>NaN</td>\n",
       "      <td>NaN</td>\n",
       "      <td>NaN</td>\n",
       "      <td>NaN</td>\n",
       "      <td>NaN</td>\n",
       "      <td>NaN</td>\n",
       "      <td>NaN</td>\n",
       "      <td>NaN</td>\n",
       "      <td>NaN</td>\n",
       "      <td>NaN</td>\n",
       "      <td>NaN</td>\n",
       "      <td>NaN</td>\n",
       "      <td>NaN</td>\n",
       "      <td>NaN</td>\n",
       "    </tr>\n",
       "    <tr>\n",
       "      <th>8</th>\n",
       "      <td>NaN</td>\n",
       "      <td>NaN</td>\n",
       "      <td>NaN</td>\n",
       "      <td>NaN</td>\n",
       "      <td>NaN</td>\n",
       "      <td>NaN</td>\n",
       "      <td>NaN</td>\n",
       "      <td>NaN</td>\n",
       "      <td>NaN</td>\n",
       "      <td>NaN</td>\n",
       "      <td>NaN</td>\n",
       "      <td>NaN</td>\n",
       "      <td>NaN</td>\n",
       "      <td>NaN</td>\n",
       "    </tr>\n",
       "    <tr>\n",
       "      <th>9</th>\n",
       "      <td>NaN</td>\n",
       "      <td>NaN</td>\n",
       "      <td>NaN</td>\n",
       "      <td>NaN</td>\n",
       "      <td>NaN</td>\n",
       "      <td>NaN</td>\n",
       "      <td>NaN</td>\n",
       "      <td>NaN</td>\n",
       "      <td>NaN</td>\n",
       "      <td>NaN</td>\n",
       "      <td>NaN</td>\n",
       "      <td>NaN</td>\n",
       "      <td>NaN</td>\n",
       "      <td>NaN</td>\n",
       "    </tr>\n",
       "    <tr>\n",
       "      <th>10</th>\n",
       "      <td>NaN</td>\n",
       "      <td>NaN</td>\n",
       "      <td>NaN</td>\n",
       "      <td>NaN</td>\n",
       "      <td>NaN</td>\n",
       "      <td>NaN</td>\n",
       "      <td>NaN</td>\n",
       "      <td>NaN</td>\n",
       "      <td>NaN</td>\n",
       "      <td>NaN</td>\n",
       "      <td>NaN</td>\n",
       "      <td>NaN</td>\n",
       "      <td>NaN</td>\n",
       "      <td>NaN</td>\n",
       "    </tr>\n",
       "    <tr>\n",
       "      <th>11</th>\n",
       "      <td>NaN</td>\n",
       "      <td>NaN</td>\n",
       "      <td>NaN</td>\n",
       "      <td>NaN</td>\n",
       "      <td>NaN</td>\n",
       "      <td>NaN</td>\n",
       "      <td>NaN</td>\n",
       "      <td>NaN</td>\n",
       "      <td>NaN</td>\n",
       "      <td>NaN</td>\n",
       "      <td>NaN</td>\n",
       "      <td>NaN</td>\n",
       "      <td>NaN</td>\n",
       "      <td>NaN</td>\n",
       "    </tr>\n",
       "    <tr>\n",
       "      <th>12</th>\n",
       "      <td>NaN</td>\n",
       "      <td>NaN</td>\n",
       "      <td>NaN</td>\n",
       "      <td>NaN</td>\n",
       "      <td>NaN</td>\n",
       "      <td>NaN</td>\n",
       "      <td>NaN</td>\n",
       "      <td>NaN</td>\n",
       "      <td>NaN</td>\n",
       "      <td>NaN</td>\n",
       "      <td>NaN</td>\n",
       "      <td>NaN</td>\n",
       "      <td>NaN</td>\n",
       "      <td>NaN</td>\n",
       "    </tr>\n",
       "    <tr>\n",
       "      <th>13</th>\n",
       "      <td>NaN</td>\n",
       "      <td>NaN</td>\n",
       "      <td>NaN</td>\n",
       "      <td>NaN</td>\n",
       "      <td>NaN</td>\n",
       "      <td>NaN</td>\n",
       "      <td>NaN</td>\n",
       "      <td>NaN</td>\n",
       "      <td>NaN</td>\n",
       "      <td>NaN</td>\n",
       "      <td>NaN</td>\n",
       "      <td>NaN</td>\n",
       "      <td>NaN</td>\n",
       "      <td>NaN</td>\n",
       "    </tr>\n",
       "    <tr>\n",
       "      <th>14</th>\n",
       "      <td>NaN</td>\n",
       "      <td>NaN</td>\n",
       "      <td>NaN</td>\n",
       "      <td>NaN</td>\n",
       "      <td>NaN</td>\n",
       "      <td>NaN</td>\n",
       "      <td>NaN</td>\n",
       "      <td>NaN</td>\n",
       "      <td>NaN</td>\n",
       "      <td>NaN</td>\n",
       "      <td>NaN</td>\n",
       "      <td>NaN</td>\n",
       "      <td>NaN</td>\n",
       "      <td>NaN</td>\n",
       "    </tr>\n",
       "    <tr>\n",
       "      <th>15</th>\n",
       "      <td>NaN</td>\n",
       "      <td>NaN</td>\n",
       "      <td>NaN</td>\n",
       "      <td>NaN</td>\n",
       "      <td>NaN</td>\n",
       "      <td>NaN</td>\n",
       "      <td>NaN</td>\n",
       "      <td>NaN</td>\n",
       "      <td>NaN</td>\n",
       "      <td>NaN</td>\n",
       "      <td>NaN</td>\n",
       "      <td>NaN</td>\n",
       "      <td>NaN</td>\n",
       "      <td>NaN</td>\n",
       "    </tr>\n",
       "    <tr>\n",
       "      <th>16</th>\n",
       "      <td>NaN</td>\n",
       "      <td>NaN</td>\n",
       "      <td>NaN</td>\n",
       "      <td>NaN</td>\n",
       "      <td>NaN</td>\n",
       "      <td>NaN</td>\n",
       "      <td>NaN</td>\n",
       "      <td>NaN</td>\n",
       "      <td>NaN</td>\n",
       "      <td>NaN</td>\n",
       "      <td>NaN</td>\n",
       "      <td>NaN</td>\n",
       "      <td>NaN</td>\n",
       "      <td>NaN</td>\n",
       "    </tr>\n",
       "    <tr>\n",
       "      <th>17</th>\n",
       "      <td>NaN</td>\n",
       "      <td>NaN</td>\n",
       "      <td>NaN</td>\n",
       "      <td>NaN</td>\n",
       "      <td>NaN</td>\n",
       "      <td>NaN</td>\n",
       "      <td>NaN</td>\n",
       "      <td>NaN</td>\n",
       "      <td>NaN</td>\n",
       "      <td>NaN</td>\n",
       "      <td>NaN</td>\n",
       "      <td>NaN</td>\n",
       "      <td>NaN</td>\n",
       "      <td>NaN</td>\n",
       "    </tr>\n",
       "    <tr>\n",
       "      <th>18</th>\n",
       "      <td>NaN</td>\n",
       "      <td>NaN</td>\n",
       "      <td>NaN</td>\n",
       "      <td>NaN</td>\n",
       "      <td>NaN</td>\n",
       "      <td>NaN</td>\n",
       "      <td>NaN</td>\n",
       "      <td>NaN</td>\n",
       "      <td>NaN</td>\n",
       "      <td>NaN</td>\n",
       "      <td>NaN</td>\n",
       "      <td>NaN</td>\n",
       "      <td>NaN</td>\n",
       "      <td>NaN</td>\n",
       "    </tr>\n",
       "    <tr>\n",
       "      <th>19</th>\n",
       "      <td>NaN</td>\n",
       "      <td>NaN</td>\n",
       "      <td>NaN</td>\n",
       "      <td>NaN</td>\n",
       "      <td>NaN</td>\n",
       "      <td>NaN</td>\n",
       "      <td>NaN</td>\n",
       "      <td>NaN</td>\n",
       "      <td>NaN</td>\n",
       "      <td>NaN</td>\n",
       "      <td>NaN</td>\n",
       "      <td>NaN</td>\n",
       "      <td>NaN</td>\n",
       "      <td>NaN</td>\n",
       "    </tr>\n",
       "    <tr>\n",
       "      <th>20</th>\n",
       "      <td>NaN</td>\n",
       "      <td>NaN</td>\n",
       "      <td>NaN</td>\n",
       "      <td>NaN</td>\n",
       "      <td>NaN</td>\n",
       "      <td>NaN</td>\n",
       "      <td>NaN</td>\n",
       "      <td>NaN</td>\n",
       "      <td>NaN</td>\n",
       "      <td>NaN</td>\n",
       "      <td>NaN</td>\n",
       "      <td>NaN</td>\n",
       "      <td>NaN</td>\n",
       "      <td>NaN</td>\n",
       "    </tr>\n",
       "    <tr>\n",
       "      <th>21</th>\n",
       "      <td>NaN</td>\n",
       "      <td>NaN</td>\n",
       "      <td>NaN</td>\n",
       "      <td>NaN</td>\n",
       "      <td>NaN</td>\n",
       "      <td>NaN</td>\n",
       "      <td>NaN</td>\n",
       "      <td>NaN</td>\n",
       "      <td>NaN</td>\n",
       "      <td>NaN</td>\n",
       "      <td>NaN</td>\n",
       "      <td>NaN</td>\n",
       "      <td>NaN</td>\n",
       "      <td>NaN</td>\n",
       "    </tr>\n",
       "    <tr>\n",
       "      <th>22</th>\n",
       "      <td>NaN</td>\n",
       "      <td>NaN</td>\n",
       "      <td>NaN</td>\n",
       "      <td>NaN</td>\n",
       "      <td>NaN</td>\n",
       "      <td>NaN</td>\n",
       "      <td>NaN</td>\n",
       "      <td>NaN</td>\n",
       "      <td>NaN</td>\n",
       "      <td>NaN</td>\n",
       "      <td>NaN</td>\n",
       "      <td>NaN</td>\n",
       "      <td>NaN</td>\n",
       "      <td>NaN</td>\n",
       "    </tr>\n",
       "    <tr>\n",
       "      <th>23</th>\n",
       "      <td>NaN</td>\n",
       "      <td>NaN</td>\n",
       "      <td>NaN</td>\n",
       "      <td>NaN</td>\n",
       "      <td>NaN</td>\n",
       "      <td>NaN</td>\n",
       "      <td>NaN</td>\n",
       "      <td>NaN</td>\n",
       "      <td>NaN</td>\n",
       "      <td>NaN</td>\n",
       "      <td>NaN</td>\n",
       "      <td>NaN</td>\n",
       "      <td>NaN</td>\n",
       "      <td>NaN</td>\n",
       "    </tr>\n",
       "    <tr>\n",
       "      <th>24</th>\n",
       "      <td>NaN</td>\n",
       "      <td>NaN</td>\n",
       "      <td>NaN</td>\n",
       "      <td>NaN</td>\n",
       "      <td>NaN</td>\n",
       "      <td>NaN</td>\n",
       "      <td>NaN</td>\n",
       "      <td>NaN</td>\n",
       "      <td>NaN</td>\n",
       "      <td>NaN</td>\n",
       "      <td>NaN</td>\n",
       "      <td>NaN</td>\n",
       "      <td>NaN</td>\n",
       "      <td>NaN</td>\n",
       "    </tr>\n",
       "    <tr>\n",
       "      <th>25</th>\n",
       "      <td>NaN</td>\n",
       "      <td>NaN</td>\n",
       "      <td>NaN</td>\n",
       "      <td>NaN</td>\n",
       "      <td>NaN</td>\n",
       "      <td>NaN</td>\n",
       "      <td>NaN</td>\n",
       "      <td>NaN</td>\n",
       "      <td>NaN</td>\n",
       "      <td>NaN</td>\n",
       "      <td>NaN</td>\n",
       "      <td>NaN</td>\n",
       "      <td>NaN</td>\n",
       "      <td>NaN</td>\n",
       "    </tr>\n",
       "    <tr>\n",
       "      <th>26</th>\n",
       "      <td>NaN</td>\n",
       "      <td>NaN</td>\n",
       "      <td>NaN</td>\n",
       "      <td>NaN</td>\n",
       "      <td>NaN</td>\n",
       "      <td>NaN</td>\n",
       "      <td>NaN</td>\n",
       "      <td>NaN</td>\n",
       "      <td>NaN</td>\n",
       "      <td>NaN</td>\n",
       "      <td>NaN</td>\n",
       "      <td>NaN</td>\n",
       "      <td>NaN</td>\n",
       "      <td>NaN</td>\n",
       "    </tr>\n",
       "    <tr>\n",
       "      <th>27</th>\n",
       "      <td>NaN</td>\n",
       "      <td>NaN</td>\n",
       "      <td>NaN</td>\n",
       "      <td>NaN</td>\n",
       "      <td>NaN</td>\n",
       "      <td>NaN</td>\n",
       "      <td>NaN</td>\n",
       "      <td>NaN</td>\n",
       "      <td>NaN</td>\n",
       "      <td>NaN</td>\n",
       "      <td>NaN</td>\n",
       "      <td>NaN</td>\n",
       "      <td>NaN</td>\n",
       "      <td>NaN</td>\n",
       "    </tr>\n",
       "    <tr>\n",
       "      <th>28</th>\n",
       "      <td>NaN</td>\n",
       "      <td>NaN</td>\n",
       "      <td>NaN</td>\n",
       "      <td>NaN</td>\n",
       "      <td>NaN</td>\n",
       "      <td>NaN</td>\n",
       "      <td>NaN</td>\n",
       "      <td>NaN</td>\n",
       "      <td>NaN</td>\n",
       "      <td>NaN</td>\n",
       "      <td>NaN</td>\n",
       "      <td>NaN</td>\n",
       "      <td>NaN</td>\n",
       "      <td>NaN</td>\n",
       "    </tr>\n",
       "    <tr>\n",
       "      <th>29</th>\n",
       "      <td>NaN</td>\n",
       "      <td>NaN</td>\n",
       "      <td>NaN</td>\n",
       "      <td>NaN</td>\n",
       "      <td>NaN</td>\n",
       "      <td>NaN</td>\n",
       "      <td>NaN</td>\n",
       "      <td>NaN</td>\n",
       "      <td>NaN</td>\n",
       "      <td>NaN</td>\n",
       "      <td>NaN</td>\n",
       "      <td>NaN</td>\n",
       "      <td>NaN</td>\n",
       "      <td>NaN</td>\n",
       "    </tr>\n",
       "    <tr>\n",
       "      <th>...</th>\n",
       "      <td>...</td>\n",
       "      <td>...</td>\n",
       "      <td>...</td>\n",
       "      <td>...</td>\n",
       "      <td>...</td>\n",
       "      <td>...</td>\n",
       "      <td>...</td>\n",
       "      <td>...</td>\n",
       "      <td>...</td>\n",
       "      <td>...</td>\n",
       "      <td>...</td>\n",
       "      <td>...</td>\n",
       "      <td>...</td>\n",
       "      <td>...</td>\n",
       "    </tr>\n",
       "    <tr>\n",
       "      <th>108463</th>\n",
       "      <td>NaN</td>\n",
       "      <td>NaN</td>\n",
       "      <td>NaN</td>\n",
       "      <td>NaN</td>\n",
       "      <td>NaN</td>\n",
       "      <td>NaN</td>\n",
       "      <td>NaN</td>\n",
       "      <td>NaN</td>\n",
       "      <td>NaN</td>\n",
       "      <td>NaN</td>\n",
       "      <td>NaN</td>\n",
       "      <td>NaN</td>\n",
       "      <td>NaN</td>\n",
       "      <td>NaN</td>\n",
       "    </tr>\n",
       "    <tr>\n",
       "      <th>108464</th>\n",
       "      <td>NaN</td>\n",
       "      <td>NaN</td>\n",
       "      <td>NaN</td>\n",
       "      <td>NaN</td>\n",
       "      <td>NaN</td>\n",
       "      <td>NaN</td>\n",
       "      <td>NaN</td>\n",
       "      <td>NaN</td>\n",
       "      <td>NaN</td>\n",
       "      <td>NaN</td>\n",
       "      <td>NaN</td>\n",
       "      <td>NaN</td>\n",
       "      <td>NaN</td>\n",
       "      <td>NaN</td>\n",
       "    </tr>\n",
       "    <tr>\n",
       "      <th>108465</th>\n",
       "      <td>NaN</td>\n",
       "      <td>NaN</td>\n",
       "      <td>NaN</td>\n",
       "      <td>NaN</td>\n",
       "      <td>NaN</td>\n",
       "      <td>NaN</td>\n",
       "      <td>NaN</td>\n",
       "      <td>NaN</td>\n",
       "      <td>NaN</td>\n",
       "      <td>NaN</td>\n",
       "      <td>NaN</td>\n",
       "      <td>NaN</td>\n",
       "      <td>NaN</td>\n",
       "      <td>NaN</td>\n",
       "    </tr>\n",
       "    <tr>\n",
       "      <th>108466</th>\n",
       "      <td>NaN</td>\n",
       "      <td>NaN</td>\n",
       "      <td>NaN</td>\n",
       "      <td>NaN</td>\n",
       "      <td>NaN</td>\n",
       "      <td>NaN</td>\n",
       "      <td>NaN</td>\n",
       "      <td>NaN</td>\n",
       "      <td>NaN</td>\n",
       "      <td>NaN</td>\n",
       "      <td>NaN</td>\n",
       "      <td>NaN</td>\n",
       "      <td>NaN</td>\n",
       "      <td>NaN</td>\n",
       "    </tr>\n",
       "    <tr>\n",
       "      <th>108467</th>\n",
       "      <td>NaN</td>\n",
       "      <td>NaN</td>\n",
       "      <td>NaN</td>\n",
       "      <td>NaN</td>\n",
       "      <td>NaN</td>\n",
       "      <td>NaN</td>\n",
       "      <td>NaN</td>\n",
       "      <td>NaN</td>\n",
       "      <td>NaN</td>\n",
       "      <td>NaN</td>\n",
       "      <td>NaN</td>\n",
       "      <td>NaN</td>\n",
       "      <td>NaN</td>\n",
       "      <td>NaN</td>\n",
       "    </tr>\n",
       "    <tr>\n",
       "      <th>108468</th>\n",
       "      <td>NaN</td>\n",
       "      <td>NaN</td>\n",
       "      <td>NaN</td>\n",
       "      <td>NaN</td>\n",
       "      <td>NaN</td>\n",
       "      <td>NaN</td>\n",
       "      <td>NaN</td>\n",
       "      <td>NaN</td>\n",
       "      <td>NaN</td>\n",
       "      <td>NaN</td>\n",
       "      <td>NaN</td>\n",
       "      <td>NaN</td>\n",
       "      <td>NaN</td>\n",
       "      <td>NaN</td>\n",
       "    </tr>\n",
       "    <tr>\n",
       "      <th>108469</th>\n",
       "      <td>NaN</td>\n",
       "      <td>NaN</td>\n",
       "      <td>NaN</td>\n",
       "      <td>NaN</td>\n",
       "      <td>NaN</td>\n",
       "      <td>NaN</td>\n",
       "      <td>NaN</td>\n",
       "      <td>NaN</td>\n",
       "      <td>NaN</td>\n",
       "      <td>NaN</td>\n",
       "      <td>NaN</td>\n",
       "      <td>NaN</td>\n",
       "      <td>NaN</td>\n",
       "      <td>NaN</td>\n",
       "    </tr>\n",
       "    <tr>\n",
       "      <th>108470</th>\n",
       "      <td>NaN</td>\n",
       "      <td>NaN</td>\n",
       "      <td>NaN</td>\n",
       "      <td>NaN</td>\n",
       "      <td>NaN</td>\n",
       "      <td>NaN</td>\n",
       "      <td>NaN</td>\n",
       "      <td>NaN</td>\n",
       "      <td>NaN</td>\n",
       "      <td>NaN</td>\n",
       "      <td>NaN</td>\n",
       "      <td>NaN</td>\n",
       "      <td>NaN</td>\n",
       "      <td>NaN</td>\n",
       "    </tr>\n",
       "    <tr>\n",
       "      <th>108471</th>\n",
       "      <td>NaN</td>\n",
       "      <td>NaN</td>\n",
       "      <td>NaN</td>\n",
       "      <td>NaN</td>\n",
       "      <td>NaN</td>\n",
       "      <td>NaN</td>\n",
       "      <td>NaN</td>\n",
       "      <td>NaN</td>\n",
       "      <td>NaN</td>\n",
       "      <td>NaN</td>\n",
       "      <td>NaN</td>\n",
       "      <td>NaN</td>\n",
       "      <td>NaN</td>\n",
       "      <td>NaN</td>\n",
       "    </tr>\n",
       "    <tr>\n",
       "      <th>108472</th>\n",
       "      <td>NaN</td>\n",
       "      <td>NaN</td>\n",
       "      <td>NaN</td>\n",
       "      <td>NaN</td>\n",
       "      <td>NaN</td>\n",
       "      <td>NaN</td>\n",
       "      <td>NaN</td>\n",
       "      <td>NaN</td>\n",
       "      <td>NaN</td>\n",
       "      <td>NaN</td>\n",
       "      <td>NaN</td>\n",
       "      <td>NaN</td>\n",
       "      <td>NaN</td>\n",
       "      <td>NaN</td>\n",
       "    </tr>\n",
       "    <tr>\n",
       "      <th>108473</th>\n",
       "      <td>NaN</td>\n",
       "      <td>NaN</td>\n",
       "      <td>NaN</td>\n",
       "      <td>NaN</td>\n",
       "      <td>NaN</td>\n",
       "      <td>NaN</td>\n",
       "      <td>NaN</td>\n",
       "      <td>NaN</td>\n",
       "      <td>NaN</td>\n",
       "      <td>NaN</td>\n",
       "      <td>NaN</td>\n",
       "      <td>NaN</td>\n",
       "      <td>NaN</td>\n",
       "      <td>NaN</td>\n",
       "    </tr>\n",
       "    <tr>\n",
       "      <th>108474</th>\n",
       "      <td>NaN</td>\n",
       "      <td>NaN</td>\n",
       "      <td>NaN</td>\n",
       "      <td>NaN</td>\n",
       "      <td>NaN</td>\n",
       "      <td>NaN</td>\n",
       "      <td>NaN</td>\n",
       "      <td>NaN</td>\n",
       "      <td>NaN</td>\n",
       "      <td>NaN</td>\n",
       "      <td>NaN</td>\n",
       "      <td>NaN</td>\n",
       "      <td>NaN</td>\n",
       "      <td>NaN</td>\n",
       "    </tr>\n",
       "    <tr>\n",
       "      <th>108475</th>\n",
       "      <td>NaN</td>\n",
       "      <td>NaN</td>\n",
       "      <td>NaN</td>\n",
       "      <td>NaN</td>\n",
       "      <td>NaN</td>\n",
       "      <td>NaN</td>\n",
       "      <td>NaN</td>\n",
       "      <td>NaN</td>\n",
       "      <td>NaN</td>\n",
       "      <td>NaN</td>\n",
       "      <td>NaN</td>\n",
       "      <td>NaN</td>\n",
       "      <td>NaN</td>\n",
       "      <td>NaN</td>\n",
       "    </tr>\n",
       "    <tr>\n",
       "      <th>108476</th>\n",
       "      <td>NaN</td>\n",
       "      <td>NaN</td>\n",
       "      <td>NaN</td>\n",
       "      <td>NaN</td>\n",
       "      <td>NaN</td>\n",
       "      <td>NaN</td>\n",
       "      <td>NaN</td>\n",
       "      <td>NaN</td>\n",
       "      <td>NaN</td>\n",
       "      <td>NaN</td>\n",
       "      <td>NaN</td>\n",
       "      <td>NaN</td>\n",
       "      <td>NaN</td>\n",
       "      <td>NaN</td>\n",
       "    </tr>\n",
       "    <tr>\n",
       "      <th>108477</th>\n",
       "      <td>NaN</td>\n",
       "      <td>NaN</td>\n",
       "      <td>NaN</td>\n",
       "      <td>NaN</td>\n",
       "      <td>NaN</td>\n",
       "      <td>NaN</td>\n",
       "      <td>NaN</td>\n",
       "      <td>NaN</td>\n",
       "      <td>NaN</td>\n",
       "      <td>4995369.0</td>\n",
       "      <td>4261.0</td>\n",
       "      <td>6645.0</td>\n",
       "      <td>1649.952526</td>\n",
       "      <td>2004.92</td>\n",
       "    </tr>\n",
       "    <tr>\n",
       "      <th>108478</th>\n",
       "      <td>NaN</td>\n",
       "      <td>NaN</td>\n",
       "      <td>NaN</td>\n",
       "      <td>NaN</td>\n",
       "      <td>NaN</td>\n",
       "      <td>NaN</td>\n",
       "      <td>NaN</td>\n",
       "      <td>NaN</td>\n",
       "      <td>NaN</td>\n",
       "      <td>NaN</td>\n",
       "      <td>NaN</td>\n",
       "      <td>NaN</td>\n",
       "      <td>NaN</td>\n",
       "      <td>NaN</td>\n",
       "    </tr>\n",
       "    <tr>\n",
       "      <th>108479</th>\n",
       "      <td>Report Time:</td>\n",
       "      <td>2019/11/14 09:36 GMT</td>\n",
       "      <td>NaN</td>\n",
       "      <td>NaN</td>\n",
       "      <td>NaN</td>\n",
       "      <td>NaN</td>\n",
       "      <td>NaN</td>\n",
       "      <td>NaN</td>\n",
       "      <td>NaN</td>\n",
       "      <td>NaN</td>\n",
       "      <td>NaN</td>\n",
       "      <td>NaN</td>\n",
       "      <td>NaN</td>\n",
       "      <td>NaN</td>\n",
       "    </tr>\n",
       "    <tr>\n",
       "      <th>108480</th>\n",
       "      <td>Date Range:</td>\n",
       "      <td>2019/11/07 to 2019/11/13</td>\n",
       "      <td>NaN</td>\n",
       "      <td>NaN</td>\n",
       "      <td>NaN</td>\n",
       "      <td>NaN</td>\n",
       "      <td>NaN</td>\n",
       "      <td>NaN</td>\n",
       "      <td>NaN</td>\n",
       "      <td>NaN</td>\n",
       "      <td>NaN</td>\n",
       "      <td>NaN</td>\n",
       "      <td>NaN</td>\n",
       "      <td>NaN</td>\n",
       "    </tr>\n",
       "    <tr>\n",
       "      <th>108481</th>\n",
       "      <td>Group By:</td>\n",
       "      <td>Advertiser</td>\n",
       "      <td>NaN</td>\n",
       "      <td>NaN</td>\n",
       "      <td>NaN</td>\n",
       "      <td>NaN</td>\n",
       "      <td>NaN</td>\n",
       "      <td>NaN</td>\n",
       "      <td>NaN</td>\n",
       "      <td>NaN</td>\n",
       "      <td>NaN</td>\n",
       "      <td>NaN</td>\n",
       "      <td>NaN</td>\n",
       "      <td>NaN</td>\n",
       "    </tr>\n",
       "    <tr>\n",
       "      <th>108482</th>\n",
       "      <td>Group By:</td>\n",
       "      <td>Advertiser Currency</td>\n",
       "      <td>NaN</td>\n",
       "      <td>NaN</td>\n",
       "      <td>NaN</td>\n",
       "      <td>NaN</td>\n",
       "      <td>NaN</td>\n",
       "      <td>NaN</td>\n",
       "      <td>NaN</td>\n",
       "      <td>NaN</td>\n",
       "      <td>NaN</td>\n",
       "      <td>NaN</td>\n",
       "      <td>NaN</td>\n",
       "      <td>NaN</td>\n",
       "    </tr>\n",
       "    <tr>\n",
       "      <th>108483</th>\n",
       "      <td>Group By:</td>\n",
       "      <td>Insertion Order</td>\n",
       "      <td>NaN</td>\n",
       "      <td>NaN</td>\n",
       "      <td>NaN</td>\n",
       "      <td>NaN</td>\n",
       "      <td>NaN</td>\n",
       "      <td>NaN</td>\n",
       "      <td>NaN</td>\n",
       "      <td>NaN</td>\n",
       "      <td>NaN</td>\n",
       "      <td>NaN</td>\n",
       "      <td>NaN</td>\n",
       "      <td>NaN</td>\n",
       "    </tr>\n",
       "    <tr>\n",
       "      <th>108484</th>\n",
       "      <td>Group By:</td>\n",
       "      <td>Line Item</td>\n",
       "      <td>NaN</td>\n",
       "      <td>NaN</td>\n",
       "      <td>NaN</td>\n",
       "      <td>NaN</td>\n",
       "      <td>NaN</td>\n",
       "      <td>NaN</td>\n",
       "      <td>NaN</td>\n",
       "      <td>NaN</td>\n",
       "      <td>NaN</td>\n",
       "      <td>NaN</td>\n",
       "      <td>NaN</td>\n",
       "      <td>NaN</td>\n",
       "    </tr>\n",
       "    <tr>\n",
       "      <th>108485</th>\n",
       "      <td>Group By:</td>\n",
       "      <td>Device Type</td>\n",
       "      <td>NaN</td>\n",
       "      <td>NaN</td>\n",
       "      <td>NaN</td>\n",
       "      <td>NaN</td>\n",
       "      <td>NaN</td>\n",
       "      <td>NaN</td>\n",
       "      <td>NaN</td>\n",
       "      <td>NaN</td>\n",
       "      <td>NaN</td>\n",
       "      <td>NaN</td>\n",
       "      <td>NaN</td>\n",
       "      <td>NaN</td>\n",
       "    </tr>\n",
       "    <tr>\n",
       "      <th>108486</th>\n",
       "      <td>Group By:</td>\n",
       "      <td>Floodlight Activity Name</td>\n",
       "      <td>NaN</td>\n",
       "      <td>NaN</td>\n",
       "      <td>NaN</td>\n",
       "      <td>NaN</td>\n",
       "      <td>NaN</td>\n",
       "      <td>NaN</td>\n",
       "      <td>NaN</td>\n",
       "      <td>NaN</td>\n",
       "      <td>NaN</td>\n",
       "      <td>NaN</td>\n",
       "      <td>NaN</td>\n",
       "      <td>NaN</td>\n",
       "    </tr>\n",
       "    <tr>\n",
       "      <th>108487</th>\n",
       "      <td>Group By:</td>\n",
       "      <td>Browser</td>\n",
       "      <td>NaN</td>\n",
       "      <td>NaN</td>\n",
       "      <td>NaN</td>\n",
       "      <td>NaN</td>\n",
       "      <td>NaN</td>\n",
       "      <td>NaN</td>\n",
       "      <td>NaN</td>\n",
       "      <td>NaN</td>\n",
       "      <td>NaN</td>\n",
       "      <td>NaN</td>\n",
       "      <td>NaN</td>\n",
       "      <td>NaN</td>\n",
       "    </tr>\n",
       "    <tr>\n",
       "      <th>108488</th>\n",
       "      <td>Group By:</td>\n",
       "      <td>Operating System</td>\n",
       "      <td>NaN</td>\n",
       "      <td>NaN</td>\n",
       "      <td>NaN</td>\n",
       "      <td>NaN</td>\n",
       "      <td>NaN</td>\n",
       "      <td>NaN</td>\n",
       "      <td>NaN</td>\n",
       "      <td>NaN</td>\n",
       "      <td>NaN</td>\n",
       "      <td>NaN</td>\n",
       "      <td>NaN</td>\n",
       "      <td>NaN</td>\n",
       "    </tr>\n",
       "    <tr>\n",
       "      <th>108489</th>\n",
       "      <td>Group By:</td>\n",
       "      <td>App/URL</td>\n",
       "      <td>NaN</td>\n",
       "      <td>NaN</td>\n",
       "      <td>NaN</td>\n",
       "      <td>NaN</td>\n",
       "      <td>NaN</td>\n",
       "      <td>NaN</td>\n",
       "      <td>NaN</td>\n",
       "      <td>NaN</td>\n",
       "      <td>NaN</td>\n",
       "      <td>NaN</td>\n",
       "      <td>NaN</td>\n",
       "      <td>NaN</td>\n",
       "    </tr>\n",
       "    <tr>\n",
       "      <th>108490</th>\n",
       "      <td>MRC Accredited Metrics</td>\n",
       "      <td>Impressions(Desktop Video, Mobile Video, Deskt...</td>\n",
       "      <td>Clicks(Desktop Video, Desktop Display, Desktop...</td>\n",
       "      <td>NaN</td>\n",
       "      <td>NaN</td>\n",
       "      <td>NaN</td>\n",
       "      <td>NaN</td>\n",
       "      <td>NaN</td>\n",
       "      <td>NaN</td>\n",
       "      <td>NaN</td>\n",
       "      <td>NaN</td>\n",
       "      <td>NaN</td>\n",
       "      <td>NaN</td>\n",
       "      <td>NaN</td>\n",
       "    </tr>\n",
       "    <tr>\n",
       "      <th>108491</th>\n",
       "      <td>Filter by Campaign ID:</td>\n",
       "      <td>3422227</td>\n",
       "      <td>3422244</td>\n",
       "      <td>NaN</td>\n",
       "      <td>NaN</td>\n",
       "      <td>NaN</td>\n",
       "      <td>NaN</td>\n",
       "      <td>NaN</td>\n",
       "      <td>NaN</td>\n",
       "      <td>NaN</td>\n",
       "      <td>NaN</td>\n",
       "      <td>NaN</td>\n",
       "      <td>NaN</td>\n",
       "      <td>NaN</td>\n",
       "    </tr>\n",
       "    <tr>\n",
       "      <th>108492</th>\n",
       "      <td>Filter by Partner ID:</td>\n",
       "      <td>3237134</td>\n",
       "      <td>NaN</td>\n",
       "      <td>NaN</td>\n",
       "      <td>NaN</td>\n",
       "      <td>NaN</td>\n",
       "      <td>NaN</td>\n",
       "      <td>NaN</td>\n",
       "      <td>NaN</td>\n",
       "      <td>NaN</td>\n",
       "      <td>NaN</td>\n",
       "      <td>NaN</td>\n",
       "      <td>NaN</td>\n",
       "      <td>NaN</td>\n",
       "    </tr>\n",
       "  </tbody>\n",
       "</table>\n",
       "<p>108493 rows × 14 columns</p>\n",
       "</div>"
      ],
      "text/plain": [
       "                       Advertiser  \\\n",
       "0       {MS} {BU: VN} Ford Linked   \n",
       "1       {MS} {BU: VN} Ford Linked   \n",
       "2       {MS} {BU: VN} Ford Linked   \n",
       "3       {MS} {BU: VN} Ford Linked   \n",
       "4                             NaN   \n",
       "5                             NaN   \n",
       "6                             NaN   \n",
       "7                             NaN   \n",
       "8                             NaN   \n",
       "9                             NaN   \n",
       "10                            NaN   \n",
       "11                            NaN   \n",
       "12                            NaN   \n",
       "13                            NaN   \n",
       "14                            NaN   \n",
       "15                            NaN   \n",
       "16                            NaN   \n",
       "17                            NaN   \n",
       "18                            NaN   \n",
       "19                            NaN   \n",
       "20                            NaN   \n",
       "21                            NaN   \n",
       "22                            NaN   \n",
       "23                            NaN   \n",
       "24                            NaN   \n",
       "25                            NaN   \n",
       "26                            NaN   \n",
       "27                            NaN   \n",
       "28                            NaN   \n",
       "29                            NaN   \n",
       "...                           ...   \n",
       "108463                        NaN   \n",
       "108464                        NaN   \n",
       "108465                        NaN   \n",
       "108466                        NaN   \n",
       "108467                        NaN   \n",
       "108468                        NaN   \n",
       "108469                        NaN   \n",
       "108470                        NaN   \n",
       "108471                        NaN   \n",
       "108472                        NaN   \n",
       "108473                        NaN   \n",
       "108474                        NaN   \n",
       "108475                        NaN   \n",
       "108476                        NaN   \n",
       "108477                        NaN   \n",
       "108478                        NaN   \n",
       "108479               Report Time:   \n",
       "108480                Date Range:   \n",
       "108481                  Group By:   \n",
       "108482                  Group By:   \n",
       "108483                  Group By:   \n",
       "108484                  Group By:   \n",
       "108485                  Group By:   \n",
       "108486                  Group By:   \n",
       "108487                  Group By:   \n",
       "108488                  Group By:   \n",
       "108489                  Group By:   \n",
       "108490     MRC Accredited Metrics   \n",
       "108491     Filter by Campaign ID:   \n",
       "108492      Filter by Partner ID:   \n",
       "\n",
       "                                      Advertiser Currency  \\\n",
       "0                                                     USD   \n",
       "1                                                     USD   \n",
       "2                                                     USD   \n",
       "3                                                     USD   \n",
       "4                                                     NaN   \n",
       "5                                                     NaN   \n",
       "6                                                     NaN   \n",
       "7                                                     NaN   \n",
       "8                                                     NaN   \n",
       "9                                                     NaN   \n",
       "10                                                    NaN   \n",
       "11                                                    NaN   \n",
       "12                                                    NaN   \n",
       "13                                                    NaN   \n",
       "14                                                    NaN   \n",
       "15                                                    NaN   \n",
       "16                                                    NaN   \n",
       "17                                                    NaN   \n",
       "18                                                    NaN   \n",
       "19                                                    NaN   \n",
       "20                                                    NaN   \n",
       "21                                                    NaN   \n",
       "22                                                    NaN   \n",
       "23                                                    NaN   \n",
       "24                                                    NaN   \n",
       "25                                                    NaN   \n",
       "26                                                    NaN   \n",
       "27                                                    NaN   \n",
       "28                                                    NaN   \n",
       "29                                                    NaN   \n",
       "...                                                   ...   \n",
       "108463                                                NaN   \n",
       "108464                                                NaN   \n",
       "108465                                                NaN   \n",
       "108466                                                NaN   \n",
       "108467                                                NaN   \n",
       "108468                                                NaN   \n",
       "108469                                                NaN   \n",
       "108470                                                NaN   \n",
       "108471                                                NaN   \n",
       "108472                                                NaN   \n",
       "108473                                                NaN   \n",
       "108474                                                NaN   \n",
       "108475                                                NaN   \n",
       "108476                                                NaN   \n",
       "108477                                                NaN   \n",
       "108478                                                NaN   \n",
       "108479                               2019/11/14 09:36 GMT   \n",
       "108480                           2019/11/07 to 2019/11/13   \n",
       "108481                                         Advertiser   \n",
       "108482                                Advertiser Currency   \n",
       "108483                                    Insertion Order   \n",
       "108484                                          Line Item   \n",
       "108485                                        Device Type   \n",
       "108486                           Floodlight Activity Name   \n",
       "108487                                            Browser   \n",
       "108488                                   Operating System   \n",
       "108489                                            App/URL   \n",
       "108490  Impressions(Desktop Video, Mobile Video, Deskt...   \n",
       "108491                                            3422227   \n",
       "108492                                            3237134   \n",
       "\n",
       "                                          Insertion Order  \\\n",
       "0          XVN19-0192_Everest_Q4_Shopper_Desktop_01136396   \n",
       "1          XVN19-0192_Everest_Q4_Shopper_Desktop_01136396   \n",
       "2          XVN19-0192_Everest_Q4_Shopper_Desktop_01136396   \n",
       "3          XVN19-0192_Everest_Q4_Shopper_Desktop_01136396   \n",
       "4                                                     NaN   \n",
       "5                                                     NaN   \n",
       "6                                                     NaN   \n",
       "7                                                     NaN   \n",
       "8                                                     NaN   \n",
       "9                                                     NaN   \n",
       "10                                                    NaN   \n",
       "11                                                    NaN   \n",
       "12                                                    NaN   \n",
       "13                                                    NaN   \n",
       "14                                                    NaN   \n",
       "15                                                    NaN   \n",
       "16                                                    NaN   \n",
       "17                                                    NaN   \n",
       "18                                                    NaN   \n",
       "19                                                    NaN   \n",
       "20                                                    NaN   \n",
       "21                                                    NaN   \n",
       "22                                                    NaN   \n",
       "23                                                    NaN   \n",
       "24                                                    NaN   \n",
       "25                                                    NaN   \n",
       "26                                                    NaN   \n",
       "27                                                    NaN   \n",
       "28                                                    NaN   \n",
       "29                                                    NaN   \n",
       "...                                                   ...   \n",
       "108463                                                NaN   \n",
       "108464                                                NaN   \n",
       "108465                                                NaN   \n",
       "108466                                                NaN   \n",
       "108467                                                NaN   \n",
       "108468                                                NaN   \n",
       "108469                                                NaN   \n",
       "108470                                                NaN   \n",
       "108471                                                NaN   \n",
       "108472                                                NaN   \n",
       "108473                                                NaN   \n",
       "108474                                                NaN   \n",
       "108475                                                NaN   \n",
       "108476                                                NaN   \n",
       "108477                                                NaN   \n",
       "108478                                                NaN   \n",
       "108479                                                NaN   \n",
       "108480                                                NaN   \n",
       "108481                                                NaN   \n",
       "108482                                                NaN   \n",
       "108483                                                NaN   \n",
       "108484                                                NaN   \n",
       "108485                                                NaN   \n",
       "108486                                                NaN   \n",
       "108487                                                NaN   \n",
       "108488                                                NaN   \n",
       "108489                                                NaN   \n",
       "108490  Clicks(Desktop Video, Desktop Display, Desktop...   \n",
       "108491                                            3422244   \n",
       "108492                                                NaN   \n",
       "\n",
       "                                            Line Item Device Type  \\\n",
       "0       Competitor_Conquest_Intender_Desktop_01136396     Desktop   \n",
       "1       Competitor_Conquest_Intender_Desktop_01136396     Desktop   \n",
       "2       Competitor_Conquest_Intender_Desktop_01136396     Desktop   \n",
       "3       Competitor_Conquest_Intender_Desktop_01136396     Desktop   \n",
       "4                                                 NaN         NaN   \n",
       "5                                                 NaN         NaN   \n",
       "6                                                 NaN         NaN   \n",
       "7                                                 NaN         NaN   \n",
       "8                                                 NaN         NaN   \n",
       "9                                                 NaN         NaN   \n",
       "10                                                NaN         NaN   \n",
       "11                                                NaN         NaN   \n",
       "12                                                NaN         NaN   \n",
       "13                                                NaN         NaN   \n",
       "14                                                NaN         NaN   \n",
       "15                                                NaN         NaN   \n",
       "16                                                NaN         NaN   \n",
       "17                                                NaN         NaN   \n",
       "18                                                NaN         NaN   \n",
       "19                                                NaN         NaN   \n",
       "20                                                NaN         NaN   \n",
       "21                                                NaN         NaN   \n",
       "22                                                NaN         NaN   \n",
       "23                                                NaN         NaN   \n",
       "24                                                NaN         NaN   \n",
       "25                                                NaN         NaN   \n",
       "26                                                NaN         NaN   \n",
       "27                                                NaN         NaN   \n",
       "28                                                NaN         NaN   \n",
       "29                                                NaN         NaN   \n",
       "...                                               ...         ...   \n",
       "108463                                            NaN         NaN   \n",
       "108464                                            NaN         NaN   \n",
       "108465                                            NaN         NaN   \n",
       "108466                                            NaN         NaN   \n",
       "108467                                            NaN         NaN   \n",
       "108468                                            NaN         NaN   \n",
       "108469                                            NaN         NaN   \n",
       "108470                                            NaN         NaN   \n",
       "108471                                            NaN         NaN   \n",
       "108472                                            NaN         NaN   \n",
       "108473                                            NaN         NaN   \n",
       "108474                                            NaN         NaN   \n",
       "108475                                            NaN         NaN   \n",
       "108476                                            NaN         NaN   \n",
       "108477                                            NaN         NaN   \n",
       "108478                                            NaN         NaN   \n",
       "108479                                            NaN         NaN   \n",
       "108480                                            NaN         NaN   \n",
       "108481                                            NaN         NaN   \n",
       "108482                                            NaN         NaN   \n",
       "108483                                            NaN         NaN   \n",
       "108484                                            NaN         NaN   \n",
       "108485                                            NaN         NaN   \n",
       "108486                                            NaN         NaN   \n",
       "108487                                            NaN         NaN   \n",
       "108488                                            NaN         NaN   \n",
       "108489                                            NaN         NaN   \n",
       "108490                                            NaN         NaN   \n",
       "108491                                            NaN         NaN   \n",
       "108492                                            NaN         NaN   \n",
       "\n",
       "       Floodlight Activity Name Browser Operating System  \\\n",
       "0                       Unknown  Chrome        Macintosh   \n",
       "1                       Unknown  Chrome        Macintosh   \n",
       "2                       Unknown  Chrome        Macintosh   \n",
       "3                       Unknown  Chrome        Macintosh   \n",
       "4                           NaN     NaN              NaN   \n",
       "5                           NaN     NaN              NaN   \n",
       "6                           NaN     NaN              NaN   \n",
       "7                           NaN     NaN              NaN   \n",
       "8                           NaN     NaN              NaN   \n",
       "9                           NaN     NaN              NaN   \n",
       "10                          NaN     NaN              NaN   \n",
       "11                          NaN     NaN              NaN   \n",
       "12                          NaN     NaN              NaN   \n",
       "13                          NaN     NaN              NaN   \n",
       "14                          NaN     NaN              NaN   \n",
       "15                          NaN     NaN              NaN   \n",
       "16                          NaN     NaN              NaN   \n",
       "17                          NaN     NaN              NaN   \n",
       "18                          NaN     NaN              NaN   \n",
       "19                          NaN     NaN              NaN   \n",
       "20                          NaN     NaN              NaN   \n",
       "21                          NaN     NaN              NaN   \n",
       "22                          NaN     NaN              NaN   \n",
       "23                          NaN     NaN              NaN   \n",
       "24                          NaN     NaN              NaN   \n",
       "25                          NaN     NaN              NaN   \n",
       "26                          NaN     NaN              NaN   \n",
       "27                          NaN     NaN              NaN   \n",
       "28                          NaN     NaN              NaN   \n",
       "29                          NaN     NaN              NaN   \n",
       "...                         ...     ...              ...   \n",
       "108463                      NaN     NaN              NaN   \n",
       "108464                      NaN     NaN              NaN   \n",
       "108465                      NaN     NaN              NaN   \n",
       "108466                      NaN     NaN              NaN   \n",
       "108467                      NaN     NaN              NaN   \n",
       "108468                      NaN     NaN              NaN   \n",
       "108469                      NaN     NaN              NaN   \n",
       "108470                      NaN     NaN              NaN   \n",
       "108471                      NaN     NaN              NaN   \n",
       "108472                      NaN     NaN              NaN   \n",
       "108473                      NaN     NaN              NaN   \n",
       "108474                      NaN     NaN              NaN   \n",
       "108475                      NaN     NaN              NaN   \n",
       "108476                      NaN     NaN              NaN   \n",
       "108477                      NaN     NaN              NaN   \n",
       "108478                      NaN     NaN              NaN   \n",
       "108479                      NaN     NaN              NaN   \n",
       "108480                      NaN     NaN              NaN   \n",
       "108481                      NaN     NaN              NaN   \n",
       "108482                      NaN     NaN              NaN   \n",
       "108483                      NaN     NaN              NaN   \n",
       "108484                      NaN     NaN              NaN   \n",
       "108485                      NaN     NaN              NaN   \n",
       "108486                      NaN     NaN              NaN   \n",
       "108487                      NaN     NaN              NaN   \n",
       "108488                      NaN     NaN              NaN   \n",
       "108489                      NaN     NaN              NaN   \n",
       "108490                      NaN     NaN              NaN   \n",
       "108491                      NaN     NaN              NaN   \n",
       "108492                      NaN     NaN              NaN   \n",
       "\n",
       "                     App/URL  Impressions  Clicks  Total Conversions  \\\n",
       "0                17track.net          2.0     0.0                0.0   \n",
       "1                 24h.com.vn          9.0     0.0                0.0   \n",
       "2                   9gag.com          1.0     0.0                0.0   \n",
       "3       Low volume inventory          7.0     0.0                0.0   \n",
       "4                        NaN          NaN     NaN                NaN   \n",
       "5                        NaN          NaN     NaN                NaN   \n",
       "6                        NaN          NaN     NaN                NaN   \n",
       "7                        NaN          NaN     NaN                NaN   \n",
       "8                        NaN          NaN     NaN                NaN   \n",
       "9                        NaN          NaN     NaN                NaN   \n",
       "10                       NaN          NaN     NaN                NaN   \n",
       "11                       NaN          NaN     NaN                NaN   \n",
       "12                       NaN          NaN     NaN                NaN   \n",
       "13                       NaN          NaN     NaN                NaN   \n",
       "14                       NaN          NaN     NaN                NaN   \n",
       "15                       NaN          NaN     NaN                NaN   \n",
       "16                       NaN          NaN     NaN                NaN   \n",
       "17                       NaN          NaN     NaN                NaN   \n",
       "18                       NaN          NaN     NaN                NaN   \n",
       "19                       NaN          NaN     NaN                NaN   \n",
       "20                       NaN          NaN     NaN                NaN   \n",
       "21                       NaN          NaN     NaN                NaN   \n",
       "22                       NaN          NaN     NaN                NaN   \n",
       "23                       NaN          NaN     NaN                NaN   \n",
       "24                       NaN          NaN     NaN                NaN   \n",
       "25                       NaN          NaN     NaN                NaN   \n",
       "26                       NaN          NaN     NaN                NaN   \n",
       "27                       NaN          NaN     NaN                NaN   \n",
       "28                       NaN          NaN     NaN                NaN   \n",
       "29                       NaN          NaN     NaN                NaN   \n",
       "...                      ...          ...     ...                ...   \n",
       "108463                   NaN          NaN     NaN                NaN   \n",
       "108464                   NaN          NaN     NaN                NaN   \n",
       "108465                   NaN          NaN     NaN                NaN   \n",
       "108466                   NaN          NaN     NaN                NaN   \n",
       "108467                   NaN          NaN     NaN                NaN   \n",
       "108468                   NaN          NaN     NaN                NaN   \n",
       "108469                   NaN          NaN     NaN                NaN   \n",
       "108470                   NaN          NaN     NaN                NaN   \n",
       "108471                   NaN          NaN     NaN                NaN   \n",
       "108472                   NaN          NaN     NaN                NaN   \n",
       "108473                   NaN          NaN     NaN                NaN   \n",
       "108474                   NaN          NaN     NaN                NaN   \n",
       "108475                   NaN          NaN     NaN                NaN   \n",
       "108476                   NaN          NaN     NaN                NaN   \n",
       "108477                   NaN    4995369.0  4261.0             6645.0   \n",
       "108478                   NaN          NaN     NaN                NaN   \n",
       "108479                   NaN          NaN     NaN                NaN   \n",
       "108480                   NaN          NaN     NaN                NaN   \n",
       "108481                   NaN          NaN     NaN                NaN   \n",
       "108482                   NaN          NaN     NaN                NaN   \n",
       "108483                   NaN          NaN     NaN                NaN   \n",
       "108484                   NaN          NaN     NaN                NaN   \n",
       "108485                   NaN          NaN     NaN                NaN   \n",
       "108486                   NaN          NaN     NaN                NaN   \n",
       "108487                   NaN          NaN     NaN                NaN   \n",
       "108488                   NaN          NaN     NaN                NaN   \n",
       "108489                   NaN          NaN     NaN                NaN   \n",
       "108490                   NaN          NaN     NaN                NaN   \n",
       "108491                   NaN          NaN     NaN                NaN   \n",
       "108492                   NaN          NaN     NaN                NaN   \n",
       "\n",
       "         Media Cost  Custom Bidding: Total impression custom value  \n",
       "0          0.001497                                           0.00  \n",
       "1          0.009043                                           0.00  \n",
       "2          0.000675                                           0.00  \n",
       "3          0.003830                                           0.00  \n",
       "4               NaN                                            NaN  \n",
       "5               NaN                                            NaN  \n",
       "6               NaN                                            NaN  \n",
       "7               NaN                                            NaN  \n",
       "8               NaN                                            NaN  \n",
       "9               NaN                                            NaN  \n",
       "10              NaN                                            NaN  \n",
       "11              NaN                                            NaN  \n",
       "12              NaN                                            NaN  \n",
       "13              NaN                                            NaN  \n",
       "14              NaN                                            NaN  \n",
       "15              NaN                                            NaN  \n",
       "16              NaN                                            NaN  \n",
       "17              NaN                                            NaN  \n",
       "18              NaN                                            NaN  \n",
       "19              NaN                                            NaN  \n",
       "20              NaN                                            NaN  \n",
       "21              NaN                                            NaN  \n",
       "22              NaN                                            NaN  \n",
       "23              NaN                                            NaN  \n",
       "24              NaN                                            NaN  \n",
       "25              NaN                                            NaN  \n",
       "26              NaN                                            NaN  \n",
       "27              NaN                                            NaN  \n",
       "28              NaN                                            NaN  \n",
       "29              NaN                                            NaN  \n",
       "...             ...                                            ...  \n",
       "108463          NaN                                            NaN  \n",
       "108464          NaN                                            NaN  \n",
       "108465          NaN                                            NaN  \n",
       "108466          NaN                                            NaN  \n",
       "108467          NaN                                            NaN  \n",
       "108468          NaN                                            NaN  \n",
       "108469          NaN                                            NaN  \n",
       "108470          NaN                                            NaN  \n",
       "108471          NaN                                            NaN  \n",
       "108472          NaN                                            NaN  \n",
       "108473          NaN                                            NaN  \n",
       "108474          NaN                                            NaN  \n",
       "108475          NaN                                            NaN  \n",
       "108476          NaN                                            NaN  \n",
       "108477  1649.952526                                        2004.92  \n",
       "108478          NaN                                            NaN  \n",
       "108479          NaN                                            NaN  \n",
       "108480          NaN                                            NaN  \n",
       "108481          NaN                                            NaN  \n",
       "108482          NaN                                            NaN  \n",
       "108483          NaN                                            NaN  \n",
       "108484          NaN                                            NaN  \n",
       "108485          NaN                                            NaN  \n",
       "108486          NaN                                            NaN  \n",
       "108487          NaN                                            NaN  \n",
       "108488          NaN                                            NaN  \n",
       "108489          NaN                                            NaN  \n",
       "108490          NaN                                            NaN  \n",
       "108491          NaN                                            NaN  \n",
       "108492          NaN                                            NaN  \n",
       "\n",
       "[108493 rows x 14 columns]"
      ]
     },
     "execution_count": 2,
     "metadata": {},
     "output_type": "execute_result"
    }
   ],
   "source": [
    "df=pd.read_csv(\"input.csv\")\n",
    "df.rename(columns={\"Media Cost (Advertiser Currency)\": \"Media Cost\"})"
   ]
  },
  {
   "cell_type": "code",
   "execution_count": 3,
   "metadata": {},
   "outputs": [],
   "source": [
    "#define extract name plate function\n",
    "\n",
    "def extract_name_plate(io):\n",
    "    arr=io.split('_')\n",
    "    return arr[1]"
   ]
  },
  {
   "cell_type": "code",
   "execution_count": 4,
   "metadata": {},
   "outputs": [],
   "source": [
    "#create PI score dictionary for desktop and mobile\n",
    "\n",
    "pc_score={\n",
    "'VN_Brand_Gallery':0.5,\n",
    "'VN_Brand_BP_Start':2.66,\n",
    "'VN_Brand_Features':0.98,\n",
    "'VN_Brand_Colorizer':1.26,\n",
    "'VN_Brand_Offers_Page':0.13,\n",
    "'VN_Brand_Model_Compare':0.81,\n",
    "'VN_Brand_Vehicle_Homepage':0.17,\n",
    "'VN_Brand_Find_Dealer_(LAD)':0.35,\n",
    "'VN_Brand_Video_Start':1.23,\n",
    "'VN_Brand_Video_Finish':0.84,\n",
    "'VN_Brand_Opt_in':5.61,\n",
    "'VN_Brand_Test_Drive':11.39,\n",
    "'VN_Brand_BP_Finish':8.09,\n",
    "'VN_Brand_Brochure_Download':4.94  \n",
    "}\n",
    "\n",
    "mobile_score={\n",
    "'VN_Brand_Gallery':1.69,\n",
    "'VN_Brand_BP_Start':3.32,\n",
    "'VN_Brand_Features':3.39,\n",
    "'VN_Brand_Colorizer':1.31,\n",
    "'VN_Brand_Offers_Page':0.06,\n",
    "'VN_Brand_Model_Compare':1.06,\n",
    "'VN_Brand_Vehicle_Homepage':0.24,\n",
    "'VN_Brand_Find_Dealer_(LAD)':2.71,\n",
    "'VN_Brand_Video_Start':0.94,\n",
    "'VN_Brand_Video_Finish':1.88,\n",
    "'VN_Brand_Opt_in':7.64,\n",
    "'VN_Brand_Test_Drive':34.66,\n",
    "'VN_Brand_BP_Finish':12.91,\n",
    "'VN_Brand_Brochure_Download':11.37    \n",
    "}"
   ]
  },
  {
   "cell_type": "code",
   "execution_count": 5,
   "metadata": {},
   "outputs": [],
   "source": [
    "#define create tactic column\n",
    "\n",
    "def add_tactic_column(df):\n",
    "    df['Tactic']=df.apply(lambda row: 'RTGL Intender' if (('Intender' in str(row['Line Item'])) and ('LAL' in str(row['Line Item'])) and ('RTG' in str(row['Line Item'])))\n",
    "                          else ('RTGL Readytobuy' if (('Ready' in str(row['Line Item'])) and ('LAL' in str(row['Line Item'])) and ('RTG' in str(row['Line Item'])))\n",
    "                              else ('RTGL Researcher' if (('Research' in str(row['Line Item'])) and ('LAL' in str(row['Line Item'])) and ('RTG' in str(row['Line Item'])))\n",
    "                                else ('RTG '+(str(row['Line Item']).split('_')[1]) if 'RTG' in str(row['Line Item'])\n",
    "                                    else 'Competitor'\n",
    "                                   )))\n",
    "                            ,axis=1)\n",
    "    return df\n"
   ]
  },
  {
   "cell_type": "code",
   "execution_count": 6,
   "metadata": {},
   "outputs": [],
   "source": [
    "#define create strategy column\n",
    "\n",
    "def add_strategy_column(df):\n",
    "    df['Strategy']=df.apply(lambda row: 'Lookalike' if 'LAL' in str(row['Line Item'])\n",
    "                          else ('Prospecting' if 'Competitor' in row['Line Item'] else 'AAM'\n",
    "                              ),axis=1)\n",
    "    return df"
   ]
  },
  {
   "cell_type": "code",
   "execution_count": 7,
   "metadata": {},
   "outputs": [],
   "source": [
    "#define create PI weight column\n",
    "\n",
    "def add_weight_column(df):\n",
    "    df['weight']=df.apply(lambda row: 0 if row['Floodlight Activity Name']=='Unknown'\n",
    "                          else (pc_score[str(row['Floodlight Activity Name'])] if row['Device Type']=='Desktop' else mobile_score[str(row['Floodlight Activity Name'])]\n",
    "                              ),axis=1)\n",
    "    return df"
   ]
  },
  {
   "cell_type": "code",
   "execution_count": 8,
   "metadata": {},
   "outputs": [],
   "source": [
    "#define create name plate column\n",
    "\n",
    "def add_name_plate_column(df):\n",
    "    df['Name Plate']=df.apply(lambda row: extract_name_plate(str(row['Insertion Order'])),axis=1)\n",
    "    return df\n",
    "    "
   ]
  },
  {
   "cell_type": "code",
   "execution_count": 9,
   "metadata": {},
   "outputs": [],
   "source": [
    "#define create browser family column\n",
    "\n",
    "def add_browser_family_column(df):\n",
    "    df['browser_family']=df.apply(lambda row: 'Safari' if 'Safari' in str(row['Browser'])\n",
    "                          else ('Internet Explorer' if 'Internet Explorer' in row['Browser'] else row['Browser']\n",
    "                              ),axis=1)\n",
    "    return df"
   ]
  },
  {
   "cell_type": "code",
   "execution_count": 10,
   "metadata": {},
   "outputs": [],
   "source": [
    "#define create OS family column\n",
    "\n",
    "def add_os_family_column(df):\n",
    "    df['OS Family']=df.apply(lambda row: 'Android' if 'Android' in str(row['Operating System'])\n",
    "                          else ('iOS' if 'iOS' in row['Operating System'] else ('Windows' if 'Windows' in str(row['Operating System']) else row['Operating System'])\n",
    "                              ),axis=1)\n",
    "    return df"
   ]
  },
  {
   "cell_type": "code",
   "execution_count": 11,
   "metadata": {},
   "outputs": [],
   "source": [
    "#define create total PI column\n",
    "\n",
    "def add_pi_column(df):\n",
    "    df['PI']=df.apply(lambda row: row['weight']*row['Total Conversions'],axis=1)\n",
    "    return df"
   ]
  },
  {
   "cell_type": "code",
   "execution_count": 12,
   "metadata": {},
   "outputs": [],
   "source": [
    "#define create table for device\n",
    "def pivot_device(df):\n",
    "    pivot_device=df.pivot_table(index='Device Type',values=['PI','Media Cost'],aggfunc=np.sum)\n",
    "    pivot_device['CPPI']=pivot_device.apply(lambda row: row['Media Cost'] / row['PI'] if row['PI']!=0 else 0,axis=1)\n",
    "    pivot_device.sort_values(['Media Cost'],ascending=False)\n",
    "    return pivot_device"
   ]
  },
  {
   "cell_type": "code",
   "execution_count": 13,
   "metadata": {},
   "outputs": [],
   "source": [
    "#define create table for strategy\n",
    "def pivot_strategy(df):\n",
    "    pivot_strategy=df.pivot_table(index='Strategy',values=['PI','Media Cost'],aggfunc=np.sum)\n",
    "    pivot_strategy['CPPI']=pivot_strategy.apply(lambda row: row['Media Cost'] / row['PI'] if row['PI']!=0 else 0,axis=1)\n",
    "    pivot_strategy=pivot_strategy.sort_values(['Media Cost'],ascending=False)\n",
    "    return pivot_strategy"
   ]
  },
  {
   "cell_type": "code",
   "execution_count": 14,
   "metadata": {},
   "outputs": [],
   "source": [
    "#define create table for tactic\n",
    "def pivot_tactic(df):\n",
    "    pivot_tactic=df.pivot_table(index='Tactic',values=['PI','Media Cost'],aggfunc=np.sum)\n",
    "    pivot_tactic['CPPI']=pivot_tactic.apply(lambda row: row['Media Cost'] / row['PI'] if row['PI']!=0 else 0,axis=1)\n",
    "    pivot_tactic=pivot_tactic.sort_values(['Media Cost'],ascending=False)\n",
    "    return pivot_tactic"
   ]
  },
  {
   "cell_type": "code",
   "execution_count": 15,
   "metadata": {},
   "outputs": [],
   "source": [
    "#define create table for browser family\n",
    "def pivot_browser_family(df):\n",
    "    pivot=df.pivot_table(index='browser_family',values=['PI','Media Cost'],aggfunc=np.sum)\n",
    "    pivot['CPPI']=pivot.apply(lambda row: row['Media Cost'] / row['PI'] if row['PI']!=0 else 0,axis=1)\n",
    "    pivot=pivot.sort_values(['Media Cost'],ascending=False)\n",
    "    return pivot"
   ]
  },
  {
   "cell_type": "code",
   "execution_count": 16,
   "metadata": {},
   "outputs": [],
   "source": [
    "#define create table for OS family\n",
    "def pivot_os_family(df):\n",
    "    pivot=df.pivot_table(index='OS Family',values=['PI','Media Cost'],aggfunc=np.sum)\n",
    "    pivot['CPPI']=pivot.apply(lambda row: row['Media Cost'] / row['PI'] if row['PI']!=0 else 0,axis=1)\n",
    "    pivot=pivot.sort_values(['Media Cost'],ascending=False)\n",
    "    return pivot"
   ]
  },
  {
   "cell_type": "code",
   "execution_count": 17,
   "metadata": {},
   "outputs": [],
   "source": [
    "#define create table for URL\n",
    "def pivot_url(df):\n",
    "    pivot=df.pivot_table(index='App/URL',values=['PI','Media Cost'],aggfunc=np.sum)\n",
    "    pivot['CPPI']=pivot.apply(lambda row: row['Media Cost'] / row['PI'] if row['PI']!=0 else 0,axis=1)\n",
    "    pivot=pivot.sort_values(['Media Cost'],ascending=False)\n",
    "    return pivot"
   ]
  },
  {
   "cell_type": "code",
   "execution_count": 18,
   "metadata": {},
   "outputs": [],
   "source": [
    "#define create table for tactic-device\n",
    "def pivot_tactic_device(df):\n",
    "    pivot_tactic=df.pivot_table(index=['Tactic','Device Type'],values=['PI','Media Cost'],aggfunc=np.sum)\n",
    "    pivot_tactic['CPPI']=pivot_tactic.apply(lambda row: row['Media Cost'] / row['PI'] if row['PI']!=0 else 0,axis=1)\n",
    "    pivot_tactic=pivot_tactic.sort_values(['Tactic'],ascending=True)\n",
    "    return pivot_tactic"
   ]
  },
  {
   "cell_type": "code",
   "execution_count": 19,
   "metadata": {},
   "outputs": [],
   "source": [
    "#define create table for strategy-device\n",
    "def pivot_strategy_device(df):\n",
    "    pivot_tactic=df.pivot_table(index=['Strategy','Device Type'],values=['PI','Media Cost'],aggfunc=np.sum)\n",
    "    pivot_tactic['CPPI']=pivot_tactic.apply(lambda row: row['Media Cost'] / row['PI'] if row['PI']!=0 else 0,axis=1)\n",
    "    pivot_tactic=pivot_tactic.sort_values(['Strategy'],ascending=True)\n",
    "    return pivot_tactic"
   ]
  },
  {
   "cell_type": "code",
   "execution_count": 20,
   "metadata": {},
   "outputs": [],
   "source": [
    "#define create table for pixel\n",
    "def pivot_pixel(df):\n",
    "    df=df[df['Floodlight Activity Name']!='Unknown']\n",
    "    pivot_tactic=df.pivot_table(index=['Floodlight Activity Name','Device Type','weight'],values=['Total Conversions','PI'],aggfunc=np.sum)\n",
    "    pivot_tactic=pivot_tactic.sort_values(['Floodlight Activity Name'],ascending=True)\n",
    "    pivot_tactic.rename(columns={\"PI\": \"Total PI\"})\n",
    "    return pivot_tactic"
   ]
  },
  {
   "cell_type": "code",
   "execution_count": 21,
   "metadata": {},
   "outputs": [],
   "source": [
    "#define write to excel function\n",
    "\n",
    "def write_to_excel(df, df2,df21,df3,df31,df4,df5,df6,sheet,writer):\n",
    "    df.to_excel(writer,sheet_name=sheet,startrow=0 , startcol=0)   \n",
    "    df2.to_excel(writer,sheet_name=sheet,startrow=len(df.index)+2, startcol=0) \n",
    "    df21.to_excel(writer,sheet_name=sheet,startrow=len(df.index)+2, startcol=5) \n",
    "    df3.to_excel(writer,sheet_name=sheet,startrow=len(df21.index)+2+len(df.index)+2, startcol=0)\n",
    "    df31.to_excel(writer,sheet_name=sheet,startrow=len(df21.index)+2+len(df.index)+2, startcol=5)\n",
    "    df4.to_excel(writer,sheet_name=sheet,startrow=len(df31.index)+2+len(df21.index)+2+len(df.index)+2, startcol=0)\n",
    "    df5.to_excel(writer,sheet_name=sheet,startrow=len(df4.index)+2+len(df31.index)+2+len(df21.index)+2+len(df.index)+2, startcol=0)\n",
    "    df6.to_excel(writer,sheet_name=sheet,startrow=0, startcol=11)"
   ]
  },
  {
   "cell_type": "code",
   "execution_count": 22,
   "metadata": {},
   "outputs": [],
   "source": [
    "#define main function\n",
    "\n",
    "def generate_pi_report():\n",
    "    df=pd.read_csv(\"input.csv\")\n",
    "    df=df.rename(columns={\"Media Cost (Advertiser Currency)\": \"Media Cost\"})\n",
    "    df=df.dropna()\n",
    "    df=add_name_plate_column(df)\n",
    "    df=add_strategy_column(df)\n",
    "    df=add_weight_column(df)\n",
    "    df=add_pi_column(df)\n",
    "    df=add_tactic_column(df)\n",
    "    df=add_browser_family_column(df)\n",
    "    df=add_os_family_column(df)\n",
    "    nPlates=df['Name Plate'].unique()\n",
    "    writer = pd.ExcelWriter('PI report.xlsx', engine='xlsxwriter')\n",
    "    workbook=writer.book\n",
    "    money_fmt = workbook.add_format({'num_format': '$#,##0'})\n",
    "    CPPI_fmt = workbook.add_format({'num_format': '#,##0.00'})\n",
    "    url_fmt = workbook.add_format({'align': 'right'})\n",
    "    \n",
    "    for x in range(nPlates.size):\n",
    "        worksheet=workbook.add_worksheet(str(nPlates[x]))    \n",
    "        worksheet.set_zoom(75)\n",
    "        worksheet.set_column('A:A', 15)\n",
    "        worksheet.set_column('F:G', 15)\n",
    "        worksheet.set_column('L2:L10000', 40,url_fmt)\n",
    "        worksheet.set_column('B:B', 10, money_fmt)\n",
    "        worksheet.set_column('H:H', 10, money_fmt)\n",
    "        worksheet.set_column('M:M', 10, money_fmt)\n",
    "        worksheet.set_column('D:D', 10, CPPI_fmt)\n",
    "        worksheet.set_column('J:J', 10, CPPI_fmt)\n",
    "        worksheet.set_column('O:O', 10, CPPI_fmt)\n",
    "        writer.sheets[str(nPlates[x])]=worksheet\n",
    "        df1=df[df['Name Plate']==nPlates[x]]\n",
    "        p1=pivot_device(df1)\n",
    "        p2=pivot_strategy(df1)\n",
    "        p21=pivot_strategy_device(df1)\n",
    "        p3=pivot_tactic(df1)\n",
    "        p31=pivot_tactic_device(df1)\n",
    "        p4=pivot_os_family(df1)\n",
    "        p5=pivot_browser_family(df1)\n",
    "        p6=pivot_url(df1)\n",
    "        write_to_excel(p1,p2,p21,p3,p31,p4,p5,p6,str(nPlates[x]),writer) \n",
    "        worksheet=workbook.add_worksheet(str(nPlates[x])+\" PI Contribution\")\n",
    "        worksheet.set_column('A:A', 40)\n",
    "        worksheet.set_column('B:B', 20)\n",
    "        worksheet.set_column('E:E', 20)\n",
    "        worksheet.set_zoom(75)\n",
    "        writer.sheets[str(nPlates[x])+\" PI Contribution\"]=worksheet\n",
    "        pc1=pivot_pixel(df1)\n",
    "        if pc1.size>0:\n",
    "            pc1.to_excel(writer,sheet_name=str(nPlates[x]+\" PI Contribution\"),startrow=0 , startcol=0) \n",
    "    writer.save()\n",
    "    return df\n",
    "    "
   ]
  },
  {
   "cell_type": "code",
   "execution_count": 23,
   "metadata": {},
   "outputs": [
    {
     "name": "stderr",
     "output_type": "stream",
     "text": [
      "C:\\ProgramData\\Anaconda3\\lib\\site-packages\\IPython\\core\\interactiveshell.py:3248: DtypeWarning:\n",
      "\n",
      "Columns (3,4,5,6,7,8) have mixed types. Specify dtype option on import or set low_memory=False.\n",
      "\n"
     ]
    }
   ],
   "source": [
    "df=generate_pi_report()"
   ]
  },
  {
   "cell_type": "code",
   "execution_count": 24,
   "metadata": {},
   "outputs": [
    {
     "data": {
      "application/vnd.plotly.v1+json": {
       "config": {
        "plotlyServerURL": "https://plot.ly"
       },
       "data": [
        {
         "line": {
          "color": "rgba(0, 0, 100, 0.5)",
          "width": 1
         },
         "name": "CPPI",
         "type": "scatter",
         "x": [
          "Prospecting"
         ],
         "xaxis": "x",
         "y": [
          0
         ],
         "yaxis": "y2"
        },
        {
         "marker": {
          "color": "lightblue"
         },
         "name": "Media Cost",
         "type": "bar",
         "x": [
          "Prospecting"
         ],
         "y": [
          0.015045000000000001
         ]
        }
       ],
       "layout": {
        "template": {
         "data": {
          "bar": [
           {
            "error_x": {
             "color": "#2a3f5f"
            },
            "error_y": {
             "color": "#2a3f5f"
            },
            "marker": {
             "line": {
              "color": "#E5ECF6",
              "width": 0.5
             }
            },
            "type": "bar"
           }
          ],
          "barpolar": [
           {
            "marker": {
             "line": {
              "color": "#E5ECF6",
              "width": 0.5
             }
            },
            "type": "barpolar"
           }
          ],
          "carpet": [
           {
            "aaxis": {
             "endlinecolor": "#2a3f5f",
             "gridcolor": "white",
             "linecolor": "white",
             "minorgridcolor": "white",
             "startlinecolor": "#2a3f5f"
            },
            "baxis": {
             "endlinecolor": "#2a3f5f",
             "gridcolor": "white",
             "linecolor": "white",
             "minorgridcolor": "white",
             "startlinecolor": "#2a3f5f"
            },
            "type": "carpet"
           }
          ],
          "choropleth": [
           {
            "colorbar": {
             "outlinewidth": 0,
             "ticks": ""
            },
            "type": "choropleth"
           }
          ],
          "contour": [
           {
            "colorbar": {
             "outlinewidth": 0,
             "ticks": ""
            },
            "colorscale": [
             [
              0,
              "#0d0887"
             ],
             [
              0.1111111111111111,
              "#46039f"
             ],
             [
              0.2222222222222222,
              "#7201a8"
             ],
             [
              0.3333333333333333,
              "#9c179e"
             ],
             [
              0.4444444444444444,
              "#bd3786"
             ],
             [
              0.5555555555555556,
              "#d8576b"
             ],
             [
              0.6666666666666666,
              "#ed7953"
             ],
             [
              0.7777777777777778,
              "#fb9f3a"
             ],
             [
              0.8888888888888888,
              "#fdca26"
             ],
             [
              1,
              "#f0f921"
             ]
            ],
            "type": "contour"
           }
          ],
          "contourcarpet": [
           {
            "colorbar": {
             "outlinewidth": 0,
             "ticks": ""
            },
            "type": "contourcarpet"
           }
          ],
          "heatmap": [
           {
            "colorbar": {
             "outlinewidth": 0,
             "ticks": ""
            },
            "colorscale": [
             [
              0,
              "#0d0887"
             ],
             [
              0.1111111111111111,
              "#46039f"
             ],
             [
              0.2222222222222222,
              "#7201a8"
             ],
             [
              0.3333333333333333,
              "#9c179e"
             ],
             [
              0.4444444444444444,
              "#bd3786"
             ],
             [
              0.5555555555555556,
              "#d8576b"
             ],
             [
              0.6666666666666666,
              "#ed7953"
             ],
             [
              0.7777777777777778,
              "#fb9f3a"
             ],
             [
              0.8888888888888888,
              "#fdca26"
             ],
             [
              1,
              "#f0f921"
             ]
            ],
            "type": "heatmap"
           }
          ],
          "heatmapgl": [
           {
            "colorbar": {
             "outlinewidth": 0,
             "ticks": ""
            },
            "colorscale": [
             [
              0,
              "#0d0887"
             ],
             [
              0.1111111111111111,
              "#46039f"
             ],
             [
              0.2222222222222222,
              "#7201a8"
             ],
             [
              0.3333333333333333,
              "#9c179e"
             ],
             [
              0.4444444444444444,
              "#bd3786"
             ],
             [
              0.5555555555555556,
              "#d8576b"
             ],
             [
              0.6666666666666666,
              "#ed7953"
             ],
             [
              0.7777777777777778,
              "#fb9f3a"
             ],
             [
              0.8888888888888888,
              "#fdca26"
             ],
             [
              1,
              "#f0f921"
             ]
            ],
            "type": "heatmapgl"
           }
          ],
          "histogram": [
           {
            "marker": {
             "colorbar": {
              "outlinewidth": 0,
              "ticks": ""
             }
            },
            "type": "histogram"
           }
          ],
          "histogram2d": [
           {
            "colorbar": {
             "outlinewidth": 0,
             "ticks": ""
            },
            "colorscale": [
             [
              0,
              "#0d0887"
             ],
             [
              0.1111111111111111,
              "#46039f"
             ],
             [
              0.2222222222222222,
              "#7201a8"
             ],
             [
              0.3333333333333333,
              "#9c179e"
             ],
             [
              0.4444444444444444,
              "#bd3786"
             ],
             [
              0.5555555555555556,
              "#d8576b"
             ],
             [
              0.6666666666666666,
              "#ed7953"
             ],
             [
              0.7777777777777778,
              "#fb9f3a"
             ],
             [
              0.8888888888888888,
              "#fdca26"
             ],
             [
              1,
              "#f0f921"
             ]
            ],
            "type": "histogram2d"
           }
          ],
          "histogram2dcontour": [
           {
            "colorbar": {
             "outlinewidth": 0,
             "ticks": ""
            },
            "colorscale": [
             [
              0,
              "#0d0887"
             ],
             [
              0.1111111111111111,
              "#46039f"
             ],
             [
              0.2222222222222222,
              "#7201a8"
             ],
             [
              0.3333333333333333,
              "#9c179e"
             ],
             [
              0.4444444444444444,
              "#bd3786"
             ],
             [
              0.5555555555555556,
              "#d8576b"
             ],
             [
              0.6666666666666666,
              "#ed7953"
             ],
             [
              0.7777777777777778,
              "#fb9f3a"
             ],
             [
              0.8888888888888888,
              "#fdca26"
             ],
             [
              1,
              "#f0f921"
             ]
            ],
            "type": "histogram2dcontour"
           }
          ],
          "mesh3d": [
           {
            "colorbar": {
             "outlinewidth": 0,
             "ticks": ""
            },
            "type": "mesh3d"
           }
          ],
          "parcoords": [
           {
            "line": {
             "colorbar": {
              "outlinewidth": 0,
              "ticks": ""
             }
            },
            "type": "parcoords"
           }
          ],
          "scatter": [
           {
            "marker": {
             "colorbar": {
              "outlinewidth": 0,
              "ticks": ""
             }
            },
            "type": "scatter"
           }
          ],
          "scatter3d": [
           {
            "line": {
             "colorbar": {
              "outlinewidth": 0,
              "ticks": ""
             }
            },
            "marker": {
             "colorbar": {
              "outlinewidth": 0,
              "ticks": ""
             }
            },
            "type": "scatter3d"
           }
          ],
          "scattercarpet": [
           {
            "marker": {
             "colorbar": {
              "outlinewidth": 0,
              "ticks": ""
             }
            },
            "type": "scattercarpet"
           }
          ],
          "scattergeo": [
           {
            "marker": {
             "colorbar": {
              "outlinewidth": 0,
              "ticks": ""
             }
            },
            "type": "scattergeo"
           }
          ],
          "scattergl": [
           {
            "marker": {
             "colorbar": {
              "outlinewidth": 0,
              "ticks": ""
             }
            },
            "type": "scattergl"
           }
          ],
          "scattermapbox": [
           {
            "marker": {
             "colorbar": {
              "outlinewidth": 0,
              "ticks": ""
             }
            },
            "type": "scattermapbox"
           }
          ],
          "scatterpolar": [
           {
            "marker": {
             "colorbar": {
              "outlinewidth": 0,
              "ticks": ""
             }
            },
            "type": "scatterpolar"
           }
          ],
          "scatterpolargl": [
           {
            "marker": {
             "colorbar": {
              "outlinewidth": 0,
              "ticks": ""
             }
            },
            "type": "scatterpolargl"
           }
          ],
          "scatterternary": [
           {
            "marker": {
             "colorbar": {
              "outlinewidth": 0,
              "ticks": ""
             }
            },
            "type": "scatterternary"
           }
          ],
          "surface": [
           {
            "colorbar": {
             "outlinewidth": 0,
             "ticks": ""
            },
            "colorscale": [
             [
              0,
              "#0d0887"
             ],
             [
              0.1111111111111111,
              "#46039f"
             ],
             [
              0.2222222222222222,
              "#7201a8"
             ],
             [
              0.3333333333333333,
              "#9c179e"
             ],
             [
              0.4444444444444444,
              "#bd3786"
             ],
             [
              0.5555555555555556,
              "#d8576b"
             ],
             [
              0.6666666666666666,
              "#ed7953"
             ],
             [
              0.7777777777777778,
              "#fb9f3a"
             ],
             [
              0.8888888888888888,
              "#fdca26"
             ],
             [
              1,
              "#f0f921"
             ]
            ],
            "type": "surface"
           }
          ],
          "table": [
           {
            "cells": {
             "fill": {
              "color": "#EBF0F8"
             },
             "line": {
              "color": "white"
             }
            },
            "header": {
             "fill": {
              "color": "#C8D4E3"
             },
             "line": {
              "color": "white"
             }
            },
            "type": "table"
           }
          ]
         },
         "layout": {
          "annotationdefaults": {
           "arrowcolor": "#2a3f5f",
           "arrowhead": 0,
           "arrowwidth": 1
          },
          "colorscale": {
           "diverging": [
            [
             0,
             "#8e0152"
            ],
            [
             0.1,
             "#c51b7d"
            ],
            [
             0.2,
             "#de77ae"
            ],
            [
             0.3,
             "#f1b6da"
            ],
            [
             0.4,
             "#fde0ef"
            ],
            [
             0.5,
             "#f7f7f7"
            ],
            [
             0.6,
             "#e6f5d0"
            ],
            [
             0.7,
             "#b8e186"
            ],
            [
             0.8,
             "#7fbc41"
            ],
            [
             0.9,
             "#4d9221"
            ],
            [
             1,
             "#276419"
            ]
           ],
           "sequential": [
            [
             0,
             "#0d0887"
            ],
            [
             0.1111111111111111,
             "#46039f"
            ],
            [
             0.2222222222222222,
             "#7201a8"
            ],
            [
             0.3333333333333333,
             "#9c179e"
            ],
            [
             0.4444444444444444,
             "#bd3786"
            ],
            [
             0.5555555555555556,
             "#d8576b"
            ],
            [
             0.6666666666666666,
             "#ed7953"
            ],
            [
             0.7777777777777778,
             "#fb9f3a"
            ],
            [
             0.8888888888888888,
             "#fdca26"
            ],
            [
             1,
             "#f0f921"
            ]
           ],
           "sequentialminus": [
            [
             0,
             "#0d0887"
            ],
            [
             0.1111111111111111,
             "#46039f"
            ],
            [
             0.2222222222222222,
             "#7201a8"
            ],
            [
             0.3333333333333333,
             "#9c179e"
            ],
            [
             0.4444444444444444,
             "#bd3786"
            ],
            [
             0.5555555555555556,
             "#d8576b"
            ],
            [
             0.6666666666666666,
             "#ed7953"
            ],
            [
             0.7777777777777778,
             "#fb9f3a"
            ],
            [
             0.8888888888888888,
             "#fdca26"
            ],
            [
             1,
             "#f0f921"
            ]
           ]
          },
          "colorway": [
           "#636efa",
           "#EF553B",
           "#00cc96",
           "#ab63fa",
           "#FFA15A",
           "#19d3f3",
           "#FF6692",
           "#B6E880",
           "#FF97FF",
           "#FECB52"
          ],
          "font": {
           "color": "#2a3f5f"
          },
          "geo": {
           "bgcolor": "white",
           "lakecolor": "white",
           "landcolor": "#E5ECF6",
           "showlakes": true,
           "showland": true,
           "subunitcolor": "white"
          },
          "hoverlabel": {
           "align": "left"
          },
          "hovermode": "closest",
          "mapbox": {
           "style": "light"
          },
          "paper_bgcolor": "white",
          "plot_bgcolor": "#E5ECF6",
          "polar": {
           "angularaxis": {
            "gridcolor": "white",
            "linecolor": "white",
            "ticks": ""
           },
           "bgcolor": "#E5ECF6",
           "radialaxis": {
            "gridcolor": "white",
            "linecolor": "white",
            "ticks": ""
           }
          },
          "scene": {
           "xaxis": {
            "backgroundcolor": "#E5ECF6",
            "gridcolor": "white",
            "gridwidth": 2,
            "linecolor": "white",
            "showbackground": true,
            "ticks": "",
            "zerolinecolor": "white"
           },
           "yaxis": {
            "backgroundcolor": "#E5ECF6",
            "gridcolor": "white",
            "gridwidth": 2,
            "linecolor": "white",
            "showbackground": true,
            "ticks": "",
            "zerolinecolor": "white"
           },
           "zaxis": {
            "backgroundcolor": "#E5ECF6",
            "gridcolor": "white",
            "gridwidth": 2,
            "linecolor": "white",
            "showbackground": true,
            "ticks": "",
            "zerolinecolor": "white"
           }
          },
          "shapedefaults": {
           "line": {
            "color": "#2a3f5f"
           }
          },
          "ternary": {
           "aaxis": {
            "gridcolor": "white",
            "linecolor": "white",
            "ticks": ""
           },
           "baxis": {
            "gridcolor": "white",
            "linecolor": "white",
            "ticks": ""
           },
           "bgcolor": "#E5ECF6",
           "caxis": {
            "gridcolor": "white",
            "linecolor": "white",
            "ticks": ""
           }
          },
          "title": {
           "x": 0.05
          },
          "xaxis": {
           "automargin": true,
           "gridcolor": "white",
           "linecolor": "white",
           "ticks": "",
           "zerolinecolor": "white",
           "zerolinewidth": 2
          },
          "yaxis": {
           "automargin": true,
           "gridcolor": "white",
           "linecolor": "white",
           "ticks": "",
           "zerolinecolor": "white",
           "zerolinewidth": 2
          }
         }
        },
        "xaxis": {
         "anchor": "y",
         "domain": [
          0,
          0.94
         ]
        },
        "yaxis": {
         "anchor": "x",
         "domain": [
          0,
          1
         ]
        },
        "yaxis2": {
         "anchor": "x",
         "overlaying": "y",
         "side": "right"
        }
       }
      },
      "text/html": [
       "<div>\n",
       "        \n",
       "        \n",
       "            <div id=\"8ac0d1c5-7d29-4e7e-a9bd-6c84b1ad448b\" class=\"plotly-graph-div\" style=\"height:525px; width:100%;\"></div>\n",
       "            <script type=\"text/javascript\">\n",
       "                require([\"plotly\"], function(Plotly) {\n",
       "                    window.PLOTLYENV=window.PLOTLYENV || {};\n",
       "                    \n",
       "                if (document.getElementById(\"8ac0d1c5-7d29-4e7e-a9bd-6c84b1ad448b\")) {\n",
       "                    Plotly.newPlot(\n",
       "                        '8ac0d1c5-7d29-4e7e-a9bd-6c84b1ad448b',\n",
       "                        [{\"line\": {\"color\": \"rgba(0, 0, 100, 0.5)\", \"width\": 1}, \"name\": \"CPPI\", \"type\": \"scatter\", \"x\": [\"Prospecting\"], \"xaxis\": \"x\", \"y\": [0], \"yaxis\": \"y2\"}, {\"marker\": {\"color\": \"lightblue\"}, \"name\": \"Media Cost\", \"type\": \"bar\", \"x\": [\"Prospecting\"], \"y\": [0.015045000000000001]}],\n",
       "                        {\"template\": {\"data\": {\"bar\": [{\"error_x\": {\"color\": \"#2a3f5f\"}, \"error_y\": {\"color\": \"#2a3f5f\"}, \"marker\": {\"line\": {\"color\": \"#E5ECF6\", \"width\": 0.5}}, \"type\": \"bar\"}], \"barpolar\": [{\"marker\": {\"line\": {\"color\": \"#E5ECF6\", \"width\": 0.5}}, \"type\": \"barpolar\"}], \"carpet\": [{\"aaxis\": {\"endlinecolor\": \"#2a3f5f\", \"gridcolor\": \"white\", \"linecolor\": \"white\", \"minorgridcolor\": \"white\", \"startlinecolor\": \"#2a3f5f\"}, \"baxis\": {\"endlinecolor\": \"#2a3f5f\", \"gridcolor\": \"white\", \"linecolor\": \"white\", \"minorgridcolor\": \"white\", \"startlinecolor\": \"#2a3f5f\"}, \"type\": \"carpet\"}], \"choropleth\": [{\"colorbar\": {\"outlinewidth\": 0, \"ticks\": \"\"}, \"type\": \"choropleth\"}], \"contour\": [{\"colorbar\": {\"outlinewidth\": 0, \"ticks\": \"\"}, \"colorscale\": [[0.0, \"#0d0887\"], [0.1111111111111111, \"#46039f\"], [0.2222222222222222, \"#7201a8\"], [0.3333333333333333, \"#9c179e\"], [0.4444444444444444, \"#bd3786\"], [0.5555555555555556, \"#d8576b\"], [0.6666666666666666, \"#ed7953\"], [0.7777777777777778, \"#fb9f3a\"], [0.8888888888888888, \"#fdca26\"], [1.0, \"#f0f921\"]], \"type\": \"contour\"}], \"contourcarpet\": [{\"colorbar\": {\"outlinewidth\": 0, \"ticks\": \"\"}, \"type\": \"contourcarpet\"}], \"heatmap\": [{\"colorbar\": {\"outlinewidth\": 0, \"ticks\": \"\"}, \"colorscale\": [[0.0, \"#0d0887\"], [0.1111111111111111, \"#46039f\"], [0.2222222222222222, \"#7201a8\"], [0.3333333333333333, \"#9c179e\"], [0.4444444444444444, \"#bd3786\"], [0.5555555555555556, \"#d8576b\"], [0.6666666666666666, \"#ed7953\"], [0.7777777777777778, \"#fb9f3a\"], [0.8888888888888888, \"#fdca26\"], [1.0, \"#f0f921\"]], \"type\": \"heatmap\"}], \"heatmapgl\": [{\"colorbar\": {\"outlinewidth\": 0, \"ticks\": \"\"}, \"colorscale\": [[0.0, \"#0d0887\"], [0.1111111111111111, \"#46039f\"], [0.2222222222222222, \"#7201a8\"], [0.3333333333333333, \"#9c179e\"], [0.4444444444444444, \"#bd3786\"], [0.5555555555555556, \"#d8576b\"], [0.6666666666666666, \"#ed7953\"], [0.7777777777777778, \"#fb9f3a\"], [0.8888888888888888, \"#fdca26\"], [1.0, \"#f0f921\"]], \"type\": \"heatmapgl\"}], \"histogram\": [{\"marker\": {\"colorbar\": {\"outlinewidth\": 0, \"ticks\": \"\"}}, \"type\": \"histogram\"}], \"histogram2d\": [{\"colorbar\": {\"outlinewidth\": 0, \"ticks\": \"\"}, \"colorscale\": [[0.0, \"#0d0887\"], [0.1111111111111111, \"#46039f\"], [0.2222222222222222, \"#7201a8\"], [0.3333333333333333, \"#9c179e\"], [0.4444444444444444, \"#bd3786\"], [0.5555555555555556, \"#d8576b\"], [0.6666666666666666, \"#ed7953\"], [0.7777777777777778, \"#fb9f3a\"], [0.8888888888888888, \"#fdca26\"], [1.0, \"#f0f921\"]], \"type\": \"histogram2d\"}], \"histogram2dcontour\": [{\"colorbar\": {\"outlinewidth\": 0, \"ticks\": \"\"}, \"colorscale\": [[0.0, \"#0d0887\"], [0.1111111111111111, \"#46039f\"], [0.2222222222222222, \"#7201a8\"], [0.3333333333333333, \"#9c179e\"], [0.4444444444444444, \"#bd3786\"], [0.5555555555555556, \"#d8576b\"], [0.6666666666666666, \"#ed7953\"], [0.7777777777777778, \"#fb9f3a\"], [0.8888888888888888, \"#fdca26\"], [1.0, \"#f0f921\"]], \"type\": \"histogram2dcontour\"}], \"mesh3d\": [{\"colorbar\": {\"outlinewidth\": 0, \"ticks\": \"\"}, \"type\": \"mesh3d\"}], \"parcoords\": [{\"line\": {\"colorbar\": {\"outlinewidth\": 0, \"ticks\": \"\"}}, \"type\": \"parcoords\"}], \"scatter\": [{\"marker\": {\"colorbar\": {\"outlinewidth\": 0, \"ticks\": \"\"}}, \"type\": \"scatter\"}], \"scatter3d\": [{\"line\": {\"colorbar\": {\"outlinewidth\": 0, \"ticks\": \"\"}}, \"marker\": {\"colorbar\": {\"outlinewidth\": 0, \"ticks\": \"\"}}, \"type\": \"scatter3d\"}], \"scattercarpet\": [{\"marker\": {\"colorbar\": {\"outlinewidth\": 0, \"ticks\": \"\"}}, \"type\": \"scattercarpet\"}], \"scattergeo\": [{\"marker\": {\"colorbar\": {\"outlinewidth\": 0, \"ticks\": \"\"}}, \"type\": \"scattergeo\"}], \"scattergl\": [{\"marker\": {\"colorbar\": {\"outlinewidth\": 0, \"ticks\": \"\"}}, \"type\": \"scattergl\"}], \"scattermapbox\": [{\"marker\": {\"colorbar\": {\"outlinewidth\": 0, \"ticks\": \"\"}}, \"type\": \"scattermapbox\"}], \"scatterpolar\": [{\"marker\": {\"colorbar\": {\"outlinewidth\": 0, \"ticks\": \"\"}}, \"type\": \"scatterpolar\"}], \"scatterpolargl\": [{\"marker\": {\"colorbar\": {\"outlinewidth\": 0, \"ticks\": \"\"}}, \"type\": \"scatterpolargl\"}], \"scatterternary\": [{\"marker\": {\"colorbar\": {\"outlinewidth\": 0, \"ticks\": \"\"}}, \"type\": \"scatterternary\"}], \"surface\": [{\"colorbar\": {\"outlinewidth\": 0, \"ticks\": \"\"}, \"colorscale\": [[0.0, \"#0d0887\"], [0.1111111111111111, \"#46039f\"], [0.2222222222222222, \"#7201a8\"], [0.3333333333333333, \"#9c179e\"], [0.4444444444444444, \"#bd3786\"], [0.5555555555555556, \"#d8576b\"], [0.6666666666666666, \"#ed7953\"], [0.7777777777777778, \"#fb9f3a\"], [0.8888888888888888, \"#fdca26\"], [1.0, \"#f0f921\"]], \"type\": \"surface\"}], \"table\": [{\"cells\": {\"fill\": {\"color\": \"#EBF0F8\"}, \"line\": {\"color\": \"white\"}}, \"header\": {\"fill\": {\"color\": \"#C8D4E3\"}, \"line\": {\"color\": \"white\"}}, \"type\": \"table\"}]}, \"layout\": {\"annotationdefaults\": {\"arrowcolor\": \"#2a3f5f\", \"arrowhead\": 0, \"arrowwidth\": 1}, \"colorscale\": {\"diverging\": [[0, \"#8e0152\"], [0.1, \"#c51b7d\"], [0.2, \"#de77ae\"], [0.3, \"#f1b6da\"], [0.4, \"#fde0ef\"], [0.5, \"#f7f7f7\"], [0.6, \"#e6f5d0\"], [0.7, \"#b8e186\"], [0.8, \"#7fbc41\"], [0.9, \"#4d9221\"], [1, \"#276419\"]], \"sequential\": [[0.0, \"#0d0887\"], [0.1111111111111111, \"#46039f\"], [0.2222222222222222, \"#7201a8\"], [0.3333333333333333, \"#9c179e\"], [0.4444444444444444, \"#bd3786\"], [0.5555555555555556, \"#d8576b\"], [0.6666666666666666, \"#ed7953\"], [0.7777777777777778, \"#fb9f3a\"], [0.8888888888888888, \"#fdca26\"], [1.0, \"#f0f921\"]], \"sequentialminus\": [[0.0, \"#0d0887\"], [0.1111111111111111, \"#46039f\"], [0.2222222222222222, \"#7201a8\"], [0.3333333333333333, \"#9c179e\"], [0.4444444444444444, \"#bd3786\"], [0.5555555555555556, \"#d8576b\"], [0.6666666666666666, \"#ed7953\"], [0.7777777777777778, \"#fb9f3a\"], [0.8888888888888888, \"#fdca26\"], [1.0, \"#f0f921\"]]}, \"colorway\": [\"#636efa\", \"#EF553B\", \"#00cc96\", \"#ab63fa\", \"#FFA15A\", \"#19d3f3\", \"#FF6692\", \"#B6E880\", \"#FF97FF\", \"#FECB52\"], \"font\": {\"color\": \"#2a3f5f\"}, \"geo\": {\"bgcolor\": \"white\", \"lakecolor\": \"white\", \"landcolor\": \"#E5ECF6\", \"showlakes\": true, \"showland\": true, \"subunitcolor\": \"white\"}, \"hoverlabel\": {\"align\": \"left\"}, \"hovermode\": \"closest\", \"mapbox\": {\"style\": \"light\"}, \"paper_bgcolor\": \"white\", \"plot_bgcolor\": \"#E5ECF6\", \"polar\": {\"angularaxis\": {\"gridcolor\": \"white\", \"linecolor\": \"white\", \"ticks\": \"\"}, \"bgcolor\": \"#E5ECF6\", \"radialaxis\": {\"gridcolor\": \"white\", \"linecolor\": \"white\", \"ticks\": \"\"}}, \"scene\": {\"xaxis\": {\"backgroundcolor\": \"#E5ECF6\", \"gridcolor\": \"white\", \"gridwidth\": 2, \"linecolor\": \"white\", \"showbackground\": true, \"ticks\": \"\", \"zerolinecolor\": \"white\"}, \"yaxis\": {\"backgroundcolor\": \"#E5ECF6\", \"gridcolor\": \"white\", \"gridwidth\": 2, \"linecolor\": \"white\", \"showbackground\": true, \"ticks\": \"\", \"zerolinecolor\": \"white\"}, \"zaxis\": {\"backgroundcolor\": \"#E5ECF6\", \"gridcolor\": \"white\", \"gridwidth\": 2, \"linecolor\": \"white\", \"showbackground\": true, \"ticks\": \"\", \"zerolinecolor\": \"white\"}}, \"shapedefaults\": {\"line\": {\"color\": \"#2a3f5f\"}}, \"ternary\": {\"aaxis\": {\"gridcolor\": \"white\", \"linecolor\": \"white\", \"ticks\": \"\"}, \"baxis\": {\"gridcolor\": \"white\", \"linecolor\": \"white\", \"ticks\": \"\"}, \"bgcolor\": \"#E5ECF6\", \"caxis\": {\"gridcolor\": \"white\", \"linecolor\": \"white\", \"ticks\": \"\"}}, \"title\": {\"x\": 0.05}, \"xaxis\": {\"automargin\": true, \"gridcolor\": \"white\", \"linecolor\": \"white\", \"ticks\": \"\", \"zerolinecolor\": \"white\", \"zerolinewidth\": 2}, \"yaxis\": {\"automargin\": true, \"gridcolor\": \"white\", \"linecolor\": \"white\", \"ticks\": \"\", \"zerolinecolor\": \"white\", \"zerolinewidth\": 2}}}, \"xaxis\": {\"anchor\": \"y\", \"domain\": [0.0, 0.94]}, \"yaxis\": {\"anchor\": \"x\", \"domain\": [0.0, 1.0]}, \"yaxis2\": {\"anchor\": \"x\", \"overlaying\": \"y\", \"side\": \"right\"}},\n",
       "                        {\"responsive\": true}\n",
       "                    ).then(function(){\n",
       "                            \n",
       "var gd = document.getElementById('8ac0d1c5-7d29-4e7e-a9bd-6c84b1ad448b');\n",
       "var x = new MutationObserver(function (mutations, observer) {{\n",
       "        var display = window.getComputedStyle(gd).display;\n",
       "        if (!display || display === 'none') {{\n",
       "            console.log([gd, 'removed!']);\n",
       "            Plotly.purge(gd);\n",
       "            observer.disconnect();\n",
       "        }}\n",
       "}});\n",
       "\n",
       "// Listen for the removal of the full notebook cells\n",
       "var notebookContainer = gd.closest('#notebook-container');\n",
       "if (notebookContainer) {{\n",
       "    x.observe(notebookContainer, {childList: true});\n",
       "}}\n",
       "\n",
       "// Listen for the clearing of the current output cell\n",
       "var outputEl = gd.closest('.output');\n",
       "if (outputEl) {{\n",
       "    x.observe(outputEl, {childList: true});\n",
       "}}\n",
       "\n",
       "                        })\n",
       "                };\n",
       "                });\n",
       "            </script>\n",
       "        </div>"
      ]
     },
     "metadata": {},
     "output_type": "display_data"
    }
   ],
   "source": [
    "#plot strategy pivot\n",
    "\n",
    "strategy_pivot=pivot_strategy(df)\n",
    "\n",
    "fig = make_subplots(specs=[[{\"secondary_y\": True}]])\n",
    "fig.add_trace(\n",
    "    go.Scatter(\n",
    "        x=strategy_pivot.index,\n",
    "        y=strategy_pivot['CPPI'],\n",
    "        name=\"CPPI\",\n",
    "        line=dict(color='rgba(0, 0, 100, 0.5)', width=1)\n",
    "    ),secondary_y=True)\n",
    "fig.add_trace(\n",
    "    go.Bar(\n",
    "        x=strategy_pivot.index,\n",
    "        y=strategy_pivot['Media Cost'],\n",
    "        name=\"Media Cost\",\n",
    "        marker=dict(color='lightblue')\n",
    "    ))"
   ]
  },
  {
   "cell_type": "code",
   "execution_count": null,
   "metadata": {},
   "outputs": [],
   "source": []
  }
 ],
 "metadata": {
  "kernelspec": {
   "display_name": "Python 3",
   "language": "python",
   "name": "python3"
  },
  "language_info": {
   "codemirror_mode": {
    "name": "ipython",
    "version": 3
   },
   "file_extension": ".py",
   "mimetype": "text/x-python",
   "name": "python",
   "nbconvert_exporter": "python",
   "pygments_lexer": "ipython3",
   "version": "3.7.3"
  }
 },
 "nbformat": 4,
 "nbformat_minor": 2
}
